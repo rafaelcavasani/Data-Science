{
  "nbformat": 4,
  "nbformat_minor": 0,
  "metadata": {
    "colab": {
      "name": "Regressão - Manual.ipynb",
      "provenance": [],
      "collapsed_sections": [],
      "toc_visible": true
    },
    "kernelspec": {
      "name": "python3",
      "display_name": "Python 3"
    }
  },
  "cells": [
    {
      "cell_type": "markdown",
      "metadata": {
        "id": "CCcpYoQylrRe",
        "colab_type": "text"
      },
      "source": [
        "#Importando DataSets"
      ]
    },
    {
      "cell_type": "code",
      "metadata": {
        "id": "E4VtnVl-tcyr",
        "colab_type": "code",
        "outputId": "3e46c862-00af-4790-9407-891284b9dc73",
        "colab": {
          "base_uri": "https://localhost:8080/",
          "height": 224
        }
      },
      "source": [
        "!pip install yellowbrick"
      ],
      "execution_count": 0,
      "outputs": [
        {
          "output_type": "stream",
          "text": [
            "Requirement already satisfied: yellowbrick in /usr/local/lib/python3.6/dist-packages (0.9.1)\n",
            "Requirement already satisfied: cycler>=0.10.0 in /usr/local/lib/python3.6/dist-packages (from yellowbrick) (0.10.0)\n",
            "Requirement already satisfied: matplotlib!=3.0.0,>=1.5.1 in /usr/local/lib/python3.6/dist-packages (from yellowbrick) (3.2.1)\n",
            "Requirement already satisfied: scikit-learn>=0.20 in /usr/local/lib/python3.6/dist-packages (from yellowbrick) (0.22.2.post1)\n",
            "Requirement already satisfied: numpy>=1.13.0 in /usr/local/lib/python3.6/dist-packages (from yellowbrick) (1.18.4)\n",
            "Requirement already satisfied: scipy>=1.0.0 in /usr/local/lib/python3.6/dist-packages (from yellowbrick) (1.4.1)\n",
            "Requirement already satisfied: six in /usr/local/lib/python3.6/dist-packages (from cycler>=0.10.0->yellowbrick) (1.12.0)\n",
            "Requirement already satisfied: pyparsing!=2.0.4,!=2.1.2,!=2.1.6,>=2.0.1 in /usr/local/lib/python3.6/dist-packages (from matplotlib!=3.0.0,>=1.5.1->yellowbrick) (2.4.7)\n",
            "Requirement already satisfied: kiwisolver>=1.0.1 in /usr/local/lib/python3.6/dist-packages (from matplotlib!=3.0.0,>=1.5.1->yellowbrick) (1.2.0)\n",
            "Requirement already satisfied: python-dateutil>=2.1 in /usr/local/lib/python3.6/dist-packages (from matplotlib!=3.0.0,>=1.5.1->yellowbrick) (2.8.1)\n",
            "Requirement already satisfied: joblib>=0.11 in /usr/local/lib/python3.6/dist-packages (from scikit-learn>=0.20->yellowbrick) (0.15.1)\n"
          ],
          "name": "stdout"
        }
      ]
    },
    {
      "cell_type": "code",
      "metadata": {
        "id": "NXLoRfV7lx1b",
        "colab_type": "code",
        "outputId": "9c90e47f-b350-4d8d-cf1f-6fc3d7bd6457",
        "colab": {
          "base_uri": "https://localhost:8080/",
          "height": 34
        }
      },
      "source": [
        "from google.colab import drive\n",
        "import pandas as pd\n",
        "import os\n",
        "import numpy as np\n",
        "import matplotlib.pyplot as plt\n",
        "\n",
        "\n",
        "drive.mount('/gdrive', force_remount=True)"
      ],
      "execution_count": 0,
      "outputs": [
        {
          "output_type": "stream",
          "text": [
            "Mounted at /gdrive\n"
          ],
          "name": "stdout"
        }
      ]
    },
    {
      "cell_type": "code",
      "metadata": {
        "id": "g4Mic0G1np4p",
        "colab_type": "code",
        "colab": {}
      },
      "source": [
        "path = '/gdrive/My Drive/Colab Notebooks/DataSets'"
      ],
      "execution_count": 0,
      "outputs": []
    },
    {
      "cell_type": "markdown",
      "metadata": {
        "id": "l9-Y4PdinlcV",
        "colab_type": "text"
      },
      "source": [
        "##1.Plano de Saúde"
      ]
    },
    {
      "cell_type": "code",
      "metadata": {
        "id": "NB6ffYRnk75N",
        "colab_type": "code",
        "colab": {}
      },
      "source": [
        "path_plano = os.path.join(path, 'plano_saude.csv')\n",
        "base = pd.read_csv(path_plano)"
      ],
      "execution_count": 0,
      "outputs": []
    },
    {
      "cell_type": "markdown",
      "metadata": {
        "id": "MQflsekNgHzT",
        "colab_type": "text"
      },
      "source": [
        "###2.1.Plano de Saúde 2"
      ]
    },
    {
      "cell_type": "code",
      "metadata": {
        "id": "HexZuhNVgLa8",
        "colab_type": "code",
        "colab": {}
      },
      "source": [
        "path_house = os.path.join(path, 'plano_saude2.csv')\n",
        "base = pd.read_csv(path_house)"
      ],
      "execution_count": 0,
      "outputs": []
    },
    {
      "cell_type": "markdown",
      "metadata": {
        "id": "ph_TOAeJnhVz",
        "colab_type": "text"
      },
      "source": [
        "##2.Preço Casas"
      ]
    },
    {
      "cell_type": "code",
      "metadata": {
        "id": "z2yPAWoNoAz7",
        "colab_type": "code",
        "colab": {}
      },
      "source": [
        "path_house = os.path.join(path, 'house_prices.csv')\n",
        "base = pd.read_csv(path_house)"
      ],
      "execution_count": 0,
      "outputs": []
    },
    {
      "cell_type": "markdown",
      "metadata": {
        "id": "-AkOyjYnlk4E",
        "colab_type": "text"
      },
      "source": [
        "#Regressão Linear Simples"
      ]
    },
    {
      "cell_type": "markdown",
      "metadata": {
        "id": "53x5KD2QugjP",
        "colab_type": "text"
      },
      "source": [
        "##1.Base Plano de Saude"
      ]
    },
    {
      "cell_type": "code",
      "metadata": {
        "id": "xaSMnXqPlmMI",
        "colab_type": "code",
        "colab": {}
      },
      "source": [
        "X = base.iloc[:, 0].values\n",
        "y = base.iloc[:, 1].values"
      ],
      "execution_count": 0,
      "outputs": []
    },
    {
      "cell_type": "code",
      "metadata": {
        "id": "l6OylyxXoT32",
        "colab_type": "code",
        "outputId": "52f14aaf-99c7-4f84-a8ed-c0207934cd63",
        "colab": {
          "base_uri": "https://localhost:8080/",
          "height": 51
        }
      },
      "source": [
        "correlacao = np.corrcoef(X, y)\n",
        "correlacao"
      ],
      "execution_count": 0,
      "outputs": [
        {
          "output_type": "execute_result",
          "data": {
            "text/plain": [
              "array([[1.        , 0.93091958],\n",
              "       [0.93091958, 1.        ]])"
            ]
          },
          "metadata": {
            "tags": []
          },
          "execution_count": 29
        }
      ]
    },
    {
      "cell_type": "code",
      "metadata": {
        "id": "BBz9ITlHo_33",
        "colab_type": "code",
        "colab": {}
      },
      "source": [
        "X = X.reshape(-1,1)"
      ],
      "execution_count": 0,
      "outputs": []
    },
    {
      "cell_type": "code",
      "metadata": {
        "id": "mGnUUJjapF0k",
        "colab_type": "code",
        "outputId": "5b969a2c-88ba-4a14-8b6e-740e3336b5e5",
        "colab": {
          "base_uri": "https://localhost:8080/",
          "height": 34
        }
      },
      "source": [
        "from sklearn.linear_model import LinearRegression\n",
        "\n",
        "regressor = LinearRegression()\n",
        "regressor.fit(X, y)"
      ],
      "execution_count": 0,
      "outputs": [
        {
          "output_type": "execute_result",
          "data": {
            "text/plain": [
              "LinearRegression(copy_X=True, fit_intercept=True, n_jobs=None, normalize=False)"
            ]
          },
          "metadata": {
            "tags": []
          },
          "execution_count": 31
        }
      ]
    },
    {
      "cell_type": "markdown",
      "metadata": {
        "id": "VDEbCElLpbiP",
        "colab_type": "text"
      },
      "source": [
        "b0 - Onde inicia a linha"
      ]
    },
    {
      "cell_type": "code",
      "metadata": {
        "id": "bSouqQwQpRIa",
        "colab_type": "code",
        "outputId": "77dcce62-b638-475f-d672-e8f90540ad50",
        "colab": {
          "base_uri": "https://localhost:8080/",
          "height": 34
        }
      },
      "source": [
        "regressor.intercept_"
      ],
      "execution_count": 0,
      "outputs": [
        {
          "output_type": "execute_result",
          "data": {
            "text/plain": [
              "-558.9490909090912"
            ]
          },
          "metadata": {
            "tags": []
          },
          "execution_count": 32
        }
      ]
    },
    {
      "cell_type": "markdown",
      "metadata": {
        "id": "tgtZ-FnYpdW2",
        "colab_type": "text"
      },
      "source": [
        "b1 - Indica o grau de inclinação da linha"
      ]
    },
    {
      "cell_type": "code",
      "metadata": {
        "id": "bmKFPc_npcvi",
        "colab_type": "code",
        "outputId": "a73dec84-3db5-453a-8a38-435ff2eba78f",
        "colab": {
          "base_uri": "https://localhost:8080/",
          "height": 34
        }
      },
      "source": [
        "regressor.coef_"
      ],
      "execution_count": 0,
      "outputs": [
        {
          "output_type": "execute_result",
          "data": {
            "text/plain": [
              "array([61.86787879])"
            ]
          },
          "metadata": {
            "tags": []
          },
          "execution_count": 33
        }
      ]
    },
    {
      "cell_type": "code",
      "metadata": {
        "id": "19j0beeFsBn8",
        "colab_type": "code",
        "outputId": "55b6e3ef-6f02-4e0f-84c8-2cb3afaf6a63",
        "colab": {
          "base_uri": "https://localhost:8080/",
          "height": 312
        }
      },
      "source": [
        "plt.scatter(X, y)\n",
        "plt.plot(X, regressor.predict(X), color='red')\n",
        "plt.title('Regressão Linear Simples')\n",
        "plt.xlabel('Idade')\n",
        "plt.ylabel('Custo')"
      ],
      "execution_count": 0,
      "outputs": [
        {
          "output_type": "execute_result",
          "data": {
            "text/plain": [
              "Text(0, 0.5, 'Custo')"
            ]
          },
          "metadata": {
            "tags": []
          },
          "execution_count": 36
        },
        {
          "output_type": "display_data",
          "data": {
            "image/png": "[encoded data removed]",
            "text/plain": [
              "<Figure size 432x288 with 1 Axes>"
            ]
          },
          "metadata": {
            "tags": [],
            "needs_background": "light"
          }
        }
      ]
    },
    {
      "cell_type": "code",
      "metadata": {
        "id": "_Xwc_BdKsquz",
        "colab_type": "code",
        "outputId": "620a8779-3cc9-4139-e68d-d2bd4a3245b4",
        "colab": {
          "base_uri": "https://localhost:8080/",
          "height": 34
        }
      },
      "source": [
        "previsao1 = regressor.predict([[48]])\n",
        "previsao1"
      ],
      "execution_count": 0,
      "outputs": [
        {
          "output_type": "execute_result",
          "data": {
            "text/plain": [
              "array([2410.70909091])"
            ]
          },
          "metadata": {
            "tags": []
          },
          "execution_count": 42
        }
      ]
    },
    {
      "cell_type": "code",
      "metadata": {
        "id": "U-HgEVzbsu8G",
        "colab_type": "code",
        "outputId": "0c9bbbb7-0c7e-4068-e6cd-6682f395ba1c",
        "colab": {
          "base_uri": "https://localhost:8080/",
          "height": 34
        }
      },
      "source": [
        "previsao2 = regressor.intercept_ + regressor.coef_ * 48\n",
        "previsao2"
      ],
      "execution_count": 0,
      "outputs": [
        {
          "output_type": "execute_result",
          "data": {
            "text/plain": [
              "array([2410.70909091])"
            ]
          },
          "metadata": {
            "tags": []
          },
          "execution_count": 45
        }
      ]
    },
    {
      "cell_type": "code",
      "metadata": {
        "id": "NA1Ynoz7tNbD",
        "colab_type": "code",
        "colab": {}
      },
      "source": [
        "score = regressor.score(X, y)"
      ],
      "execution_count": 0,
      "outputs": []
    },
    {
      "cell_type": "markdown",
      "metadata": {
        "id": "UlUrJIYXtz2b",
        "colab_type": "text"
      },
      "source": [
        "###Plotando os residuais - Distância de cada ponto para a reta"
      ]
    },
    {
      "cell_type": "code",
      "metadata": {
        "id": "GI3pLJr_tVn6",
        "colab_type": "code",
        "outputId": "f238d750-babf-4ba1-fbfb-970bd8f4ddd6",
        "colab": {
          "base_uri": "https://localhost:8080/",
          "height": 376
        }
      },
      "source": [
        "from yellowbrick.regressor import ResidualsPlot\n",
        "visualizador = ResidualsPlot(regressor)\n",
        "visualizador.fit(X, y)\n",
        "visualizador.poof()"
      ],
      "execution_count": 0,
      "outputs": [
        {
          "output_type": "display_data",
          "data": {
            "image/png": "[encoded data removed]",
            "text/plain": [
              "<Figure size 576x396 with 2 Axes>"
            ]
          },
          "metadata": {
            "tags": []
          }
        }
      ]
    },
    {
      "cell_type": "markdown",
      "metadata": {
        "id": "7FPZ7m2Eus_l",
        "colab_type": "text"
      },
      "source": [
        "##2.Base Preço Casas"
      ]
    },
    {
      "cell_type": "code",
      "metadata": {
        "id": "v_fsdrcTuvAz",
        "colab_type": "code",
        "colab": {}
      },
      "source": [
        "X = base.iloc[:, 5:6] .values\n",
        "y = base.iloc[:, 2].values"
      ],
      "execution_count": 0,
      "outputs": []
    },
    {
      "cell_type": "code",
      "metadata": {
        "id": "ixi66iaMvEJG",
        "colab_type": "code",
        "colab": {}
      },
      "source": [
        "from sklearn.model_selection import train_test_split\n",
        "X_treinamento, X_teste, y_treinamento, y_teste = train_test_split(X, y, test_size=0.3, random_state=0)"
      ],
      "execution_count": 0,
      "outputs": []
    },
    {
      "cell_type": "code",
      "metadata": {
        "id": "TV3G3cQIwScN",
        "colab_type": "code",
        "colab": {}
      },
      "source": [
        "from sklearn.linear_model import LinearRegression\n",
        "\n",
        "regressor = LinearRegression()\n",
        "regressor.fit(X_treinamento, y_treinamento)\n",
        "score = regressor.score(X_treinamento, y_treinamento)"
      ],
      "execution_count": 0,
      "outputs": []
    },
    {
      "cell_type": "code",
      "metadata": {
        "id": "vpXoPGNXwkOk",
        "colab_type": "code",
        "outputId": "e845c698-d1f3-429b-bbf9-b37c0fcee5fa",
        "colab": {
          "base_uri": "https://localhost:8080/",
          "height": 375
        }
      },
      "source": [
        "  plt.scatter(X_treinamento, y_treinamento)\n",
        "  plt.plot(X_treinamento, regressor.predict(X_treinamento), color='red')"
      ],
      "execution_count": 0,
      "outputs": [
        {
          "output_type": "execute_result",
          "data": {
            "text/plain": [
              "[<matplotlib.lines.Line2D at 0x7fafa219b940>]"
            ]
          },
          "metadata": {
            "tags": []
          },
          "execution_count": 54
        },
        {
          "output_type": "display_data",
          "data": {
            "image/png": "[encoded data removed]",
            "text/plain": [
              "<Figure size 576x396 with 1 Axes>"
            ]
          },
          "metadata": {
            "tags": []
          }
        }
      ]
    },
    {
      "cell_type": "code",
      "metadata": {
        "id": "sDx-iJNAw_tu",
        "colab_type": "code",
        "colab": {}
      },
      "source": [
        "previsoes = regressor.predict(X_teste)"
      ],
      "execution_count": 0,
      "outputs": []
    },
    {
      "cell_type": "code",
      "metadata": {
        "id": "K3LO--cNxJix",
        "colab_type": "code",
        "outputId": "c406df39-c33a-488e-d7ca-091d86d9a2aa",
        "colab": {
          "base_uri": "https://localhost:8080/",
          "height": 34
        }
      },
      "source": [
        "resultado = abs(y_teste - previsoes)\n",
        "resultado.mean()"
      ],
      "execution_count": 0,
      "outputs": [
        {
          "output_type": "execute_result",
          "data": {
            "text/plain": [
              "172604.1288999542"
            ]
          },
          "metadata": {
            "tags": []
          },
          "execution_count": 61
        }
      ]
    },
    {
      "cell_type": "code",
      "metadata": {
        "id": "oOAgmUU-xPmj",
        "colab_type": "code",
        "colab": {}
      },
      "source": [
        "from sklearn.metrics import mean_absolute_error, mean_squared_error\n",
        "\n",
        "mae = mean_absolute_error(y_teste, previsoes)\n",
        "mse = mean_squared_error(y_teste, previsoes)"
      ],
      "execution_count": 0,
      "outputs": []
    },
    {
      "cell_type": "code",
      "metadata": {
        "id": "lWCiRM5xxsxX",
        "colab_type": "code",
        "outputId": "11d24258-8417-4b1d-b64b-dd763423a309",
        "colab": {
          "base_uri": "https://localhost:8080/",
          "height": 34
        }
      },
      "source": [
        "mae, mse"
      ],
      "execution_count": 0,
      "outputs": [
        {
          "output_type": "execute_result",
          "data": {
            "text/plain": [
              "(172604.1288999542, 70170013932.1159)"
            ]
          },
          "metadata": {
            "tags": []
          },
          "execution_count": 64
        }
      ]
    },
    {
      "cell_type": "code",
      "metadata": {
        "id": "vvIYLlfJxts4",
        "colab_type": "code",
        "outputId": "7d3e7cae-ad18-4e58-be29-4bc9c3250b88",
        "colab": {
          "base_uri": "https://localhost:8080/",
          "height": 375
        }
      },
      "source": [
        "plt.scatter(X_teste, y_teste)\n",
        "plt.plot(X_teste, regressor.predict(X_teste), color='red')"
      ],
      "execution_count": 0,
      "outputs": [
        {
          "output_type": "execute_result",
          "data": {
            "text/plain": [
              "[<matplotlib.lines.Line2D at 0x7fafa1f21da0>]"
            ]
          },
          "metadata": {
            "tags": []
          },
          "execution_count": 65
        },
        {
          "output_type": "display_data",
          "data": {
            "image/png": "[encoded data removed]",
            "text/plain": [
              "<Figure size 576x396 with 1 Axes>"
            ]
          },
          "metadata": {
            "tags": []
          }
        }
      ]
    },
    {
      "cell_type": "code",
      "metadata": {
        "id": "_Nf0NyYex46u",
        "colab_type": "code",
        "outputId": "8e048251-9bb1-420f-c0d0-4b5ceb537cb6",
        "colab": {
          "base_uri": "https://localhost:8080/",
          "height": 34
        }
      },
      "source": [
        "regressor.score"
      ],
      "execution_count": 0,
      "outputs": [
        {
          "output_type": "execute_result",
          "data": {
            "text/plain": [
              "<bound method RegressorMixin.score of LinearRegression(copy_X=True, fit_intercept=True, n_jobs=None, normalize=False)>"
            ]
          },
          "metadata": {
            "tags": []
          },
          "execution_count": 66
        }
      ]
    },
    {
      "cell_type": "markdown",
      "metadata": {
        "id": "l-Ts1cx2XT7G",
        "colab_type": "text"
      },
      "source": [
        "#Regressão Linear Múltipla"
      ]
    },
    {
      "cell_type": "markdown",
      "metadata": {
        "id": "pILx6gdVXYRm",
        "colab_type": "text"
      },
      "source": [
        "##1.Base Preços Casas"
      ]
    },
    {
      "cell_type": "code",
      "metadata": {
        "id": "UFbTw3hdx-3V",
        "colab_type": "code",
        "colab": {}
      },
      "source": [
        "X = base.iloc[:, 3:19] .values\n",
        "y = base.iloc[:, 2].values"
      ],
      "execution_count": 0,
      "outputs": []
    },
    {
      "cell_type": "code",
      "metadata": {
        "id": "CieBc-ugXhIZ",
        "colab_type": "code",
        "colab": {}
      },
      "source": [
        "from sklearn.model_selection import train_test_split\n",
        "X_treinamento, X_teste, y_treinamento, y_teste = train_test_split(X, y, test_size=0.3, random_state=0)"
      ],
      "execution_count": 0,
      "outputs": []
    },
    {
      "cell_type": "code",
      "metadata": {
        "id": "gl_DL4IsXj6m",
        "colab_type": "code",
        "colab": {}
      },
      "source": [
        "from sklearn.linear_model import LinearRegression\n",
        "\n",
        "regressor = LinearRegression()\n",
        "regressor.fit(X_treinamento, y_treinamento)\n",
        "score = regressor.score(X_treinamento, y_treinamento)"
      ],
      "execution_count": 0,
      "outputs": []
    },
    {
      "cell_type": "code",
      "metadata": {
        "id": "H8PVnPRxXopg",
        "colab_type": "code",
        "outputId": "8fc437d3-1c2a-47e6-8fd8-fa0fb083049a",
        "colab": {
          "base_uri": "https://localhost:8080/",
          "height": 34
        }
      },
      "source": [
        "score"
      ],
      "execution_count": 0,
      "outputs": [
        {
          "output_type": "execute_result",
          "data": {
            "text/plain": [
              "0.7029888085955007"
            ]
          },
          "metadata": {
            "tags": []
          },
          "execution_count": 7
        }
      ]
    },
    {
      "cell_type": "code",
      "metadata": {
        "id": "ycpJqEJcXvnm",
        "colab_type": "code",
        "colab": {}
      },
      "source": [
        "previsoes = regressor.predict(X_teste)"
      ],
      "execution_count": 0,
      "outputs": []
    },
    {
      "cell_type": "code",
      "metadata": {
        "id": "p0wvbwlgX9ou",
        "colab_type": "code",
        "colab": {}
      },
      "source": [
        "from sklearn.metrics import mean_absolute_error\n",
        "mae = mean_absolute_error(y_teste, previsoes)"
      ],
      "execution_count": 0,
      "outputs": []
    },
    {
      "cell_type": "code",
      "metadata": {
        "id": "S1esnAOmYGCO",
        "colab_type": "code",
        "outputId": "c2e9b47d-67b2-4218-f386-79c2b25a4748",
        "colab": {
          "base_uri": "https://localhost:8080/",
          "height": 34
        }
      },
      "source": [
        "mae"
      ],
      "execution_count": 0,
      "outputs": [
        {
          "output_type": "execute_result",
          "data": {
            "text/plain": [
              "123888.44377485772"
            ]
          },
          "metadata": {
            "tags": []
          },
          "execution_count": 12
        }
      ]
    },
    {
      "cell_type": "code",
      "metadata": {
        "id": "1pfrHJdjYQoM",
        "colab_type": "code",
        "outputId": "97889fe0-86f3-4b9f-938d-4935131cfd49",
        "colab": {
          "base_uri": "https://localhost:8080/",
          "height": 34
        }
      },
      "source": [
        "regressor.score(X_teste, y_teste)"
      ],
      "execution_count": 0,
      "outputs": [
        {
          "output_type": "execute_result",
          "data": {
            "text/plain": [
              "0.6885414149062775"
            ]
          },
          "metadata": {
            "tags": []
          },
          "execution_count": 13
        }
      ]
    },
    {
      "cell_type": "code",
      "metadata": {
        "id": "DvLdfvSjYYn7",
        "colab_type": "code",
        "outputId": "f4f5286a-659b-4901-ee3e-821cde8ea36e",
        "colab": {
          "base_uri": "https://localhost:8080/",
          "height": 34
        }
      },
      "source": [
        "regressor.intercept_"
      ],
      "execution_count": 0,
      "outputs": [
        {
          "output_type": "execute_result",
          "data": {
            "text/plain": [
              "5736222.7033961015"
            ]
          },
          "metadata": {
            "tags": []
          },
          "execution_count": 14
        }
      ]
    },
    {
      "cell_type": "code",
      "metadata": {
        "id": "q7V80aXSYcDb",
        "colab_type": "code",
        "outputId": "22dba2c0-5934-4c12-86c3-4da43855d20b",
        "colab": {
          "base_uri": "https://localhost:8080/",
          "height": 85
        }
      },
      "source": [
        "regressor.coef_"
      ],
      "execution_count": 0,
      "outputs": [
        {
          "output_type": "execute_result",
          "data": {
            "text/plain": [
              "array([-3.08423090e+04,  3.66540816e+04,  1.12179159e+02,  8.00604119e-03,\n",
              "        9.60355724e+03,  5.85441638e+05,  5.60621840e+04,  2.54795004e+04,\n",
              "        1.01092121e+05,  6.96565321e+01,  4.25226266e+01, -2.60724691e+03,\n",
              "        1.40070753e+01, -5.53557431e+02,  6.11778251e+05, -1.95564688e+05])"
            ]
          },
          "metadata": {
            "tags": []
          },
          "execution_count": 15
        }
      ]
    },
    {
      "cell_type": "markdown",
      "metadata": {
        "id": "gUmRK98RgYVG",
        "colab_type": "text"
      },
      "source": [
        "#Comparativo - Regressão Linear Polinomial x Regressão Linear"
      ]
    },
    {
      "cell_type": "markdown",
      "metadata": {
        "id": "WryatHRZj0FC",
        "colab_type": "text"
      },
      "source": [
        "##1.Base Plano de Saude"
      ]
    },
    {
      "cell_type": "markdown",
      "metadata": {
        "id": "PTsq2Sa_hXrS",
        "colab_type": "text"
      },
      "source": [
        "###Regressão Linear"
      ]
    },
    {
      "cell_type": "code",
      "metadata": {
        "id": "wNhzpcDYYdkc",
        "colab_type": "code",
        "colab": {}
      },
      "source": [
        "X = base.iloc[:, 0:1].values\n",
        "y = base.iloc[:, 1].values"
      ],
      "execution_count": 0,
      "outputs": []
    },
    {
      "cell_type": "code",
      "metadata": {
        "id": "osV7AI4FgkLw",
        "colab_type": "code",
        "outputId": "9040dbb5-7352-453b-f620-972b278130ef",
        "colab": {
          "base_uri": "https://localhost:8080/",
          "height": 34
        }
      },
      "source": [
        "from sklearn.linear_model import LinearRegression\n",
        "\n",
        "regressor = LinearRegression()\n",
        "regressor.fit(X, y)"
      ],
      "execution_count": 0,
      "outputs": [
        {
          "output_type": "execute_result",
          "data": {
            "text/plain": [
              "LinearRegression(copy_X=True, fit_intercept=True, n_jobs=None, normalize=False)"
            ]
          },
          "metadata": {
            "tags": []
          },
          "execution_count": 18
        }
      ]
    },
    {
      "cell_type": "code",
      "metadata": {
        "id": "-m2y2IKcgwOp",
        "colab_type": "code",
        "outputId": "88a1d646-6940-4f29-9eb5-7e4fef4c323d",
        "colab": {
          "base_uri": "https://localhost:8080/",
          "height": 34
        }
      },
      "source": [
        "score = regressor.score(X, y)\n",
        "score"
      ],
      "execution_count": 0,
      "outputs": [
        {
          "output_type": "execute_result",
          "data": {
            "text/plain": [
              "0.6722701203412687"
            ]
          },
          "metadata": {
            "tags": []
          },
          "execution_count": 21
        }
      ]
    },
    {
      "cell_type": "code",
      "metadata": {
        "id": "FCwt6JC0gzzP",
        "colab_type": "code",
        "outputId": "32a5bf63-d2d4-4bda-bb28-3b7fda1e4e1c",
        "colab": {
          "base_uri": "https://localhost:8080/",
          "height": 34
        }
      },
      "source": [
        "regressor.predict([[40]])"
      ],
      "execution_count": 0,
      "outputs": [
        {
          "output_type": "execute_result",
          "data": {
            "text/plain": [
              "array([2463.18787879])"
            ]
          },
          "metadata": {
            "tags": []
          },
          "execution_count": 22
        }
      ]
    },
    {
      "cell_type": "code",
      "metadata": {
        "id": "qK7rgy57g8tP",
        "colab_type": "code",
        "outputId": "abbd1712-95d4-4b0d-b232-27f115da0919",
        "colab": {
          "base_uri": "https://localhost:8080/",
          "height": 282
        }
      },
      "source": [
        "plt.scatter(X, y)\n",
        "plt.plot(X, regressor.predict(X), color='red')\n"
      ],
      "execution_count": 0,
      "outputs": [
        {
          "output_type": "execute_result",
          "data": {
            "text/plain": [
              "[<matplotlib.lines.Line2D at 0x7f1d68f03860>]"
            ]
          },
          "metadata": {
            "tags": []
          },
          "execution_count": 24
        },
        {
          "output_type": "display_data",
          "data": {
            "image/png": "[encoded data removed]",
            "text/plain": [
              "<Figure size 432x288 with 1 Axes>"
            ]
          },
          "metadata": {
            "tags": [],
            "needs_background": "light"
          }
        }
      ]
    },
    {
      "cell_type": "markdown",
      "metadata": {
        "id": "z6eAGHt9haYd",
        "colab_type": "text"
      },
      "source": [
        "###Regressão Polinomial"
      ]
    },
    {
      "cell_type": "code",
      "metadata": {
        "id": "MLW4UqnQhA36",
        "colab_type": "code",
        "colab": {}
      },
      "source": [
        "from sklearn.preprocessing import PolynomialFeatures\n",
        "poly = PolynomialFeatures(degree=4)\n",
        "X_poly = poly.fit_transform(X)"
      ],
      "execution_count": 0,
      "outputs": []
    },
    {
      "cell_type": "code",
      "metadata": {
        "id": "L4IWxHbJhsOY",
        "colab_type": "code",
        "colab": {}
      },
      "source": [
        "regressor_poly = LinearRegression()\n",
        "regressor_poly.fit(X_poly, y)\n",
        "score_poly = regressor_poly.score(X_poly, y)"
      ],
      "execution_count": 0,
      "outputs": []
    },
    {
      "cell_type": "code",
      "metadata": {
        "id": "kJqRyZKGh969",
        "colab_type": "code",
        "outputId": "c65812d9-a281-4c51-e517-b995c6b9c30e",
        "colab": {
          "base_uri": "https://localhost:8080/",
          "height": 34
        }
      },
      "source": [
        "score_poly"
      ],
      "execution_count": 0,
      "outputs": [
        {
          "output_type": "execute_result",
          "data": {
            "text/plain": [
              "0.9976494147321991"
            ]
          },
          "metadata": {
            "tags": []
          },
          "execution_count": 60
        }
      ]
    },
    {
      "cell_type": "code",
      "metadata": {
        "id": "GFBrv9mfh-s7",
        "colab_type": "code",
        "outputId": "5e2ab3f0-ac6c-4ac3-d372-244c7e5e9fbe",
        "colab": {
          "base_uri": "https://localhost:8080/",
          "height": 34
        }
      },
      "source": [
        "regressor_poly.predict(poly.transform([[40]]))"
      ],
      "execution_count": 0,
      "outputs": [
        {
          "output_type": "execute_result",
          "data": {
            "text/plain": [
              "array([1335.33958015])"
            ]
          },
          "metadata": {
            "tags": []
          },
          "execution_count": 61
        }
      ]
    },
    {
      "cell_type": "code",
      "metadata": {
        "id": "Rkbzhko9iNaL",
        "colab_type": "code",
        "outputId": "aeb15086-946f-4496-85e8-fbca60d3c4cb",
        "colab": {
          "base_uri": "https://localhost:8080/",
          "height": 282
        }
      },
      "source": [
        "plt.scatter(X, y)\n",
        "plt.plot(X, regressor_poly.predict(poly.fit_transform(X)), color='red')"
      ],
      "execution_count": 0,
      "outputs": [
        {
          "output_type": "execute_result",
          "data": {
            "text/plain": [
              "[<matplotlib.lines.Line2D at 0x7f1d584a6cf8>]"
            ]
          },
          "metadata": {
            "tags": []
          },
          "execution_count": 62
        },
        {
          "output_type": "display_data",
          "data": {
            "image/png": "[encoded data removed]",
            "text/plain": [
              "<Figure size 432x288 with 1 Axes>"
            ]
          },
          "metadata": {
            "tags": [],
            "needs_background": "light"
          }
        }
      ]
    },
    {
      "cell_type": "markdown",
      "metadata": {
        "id": "1UjfcLGWjut5",
        "colab_type": "text"
      },
      "source": [
        "##2.Base Preço Casas"
      ]
    },
    {
      "cell_type": "markdown",
      "metadata": {
        "id": "JsPpXtePj9Wq",
        "colab_type": "text"
      },
      "source": [
        "###Regressão Polinomial"
      ]
    },
    {
      "cell_type": "code",
      "metadata": {
        "id": "VM1YaaQyj8Mw",
        "colab_type": "code",
        "colab": {}
      },
      "source": [
        "X = base.iloc[:, 3:19] .values\n",
        "y = base.iloc[:, 2].values"
      ],
      "execution_count": 0,
      "outputs": []
    },
    {
      "cell_type": "code",
      "metadata": {
        "id": "Db_uzi5njC6s",
        "colab_type": "code",
        "colab": {}
      },
      "source": [
        "from sklearn.preprocessing import PolynomialFeatures\n",
        "\n",
        "poly = PolynomialFeatures(degree=2)\n",
        "X_treinamento_poly = poly.fit_transform(X_treinamento)\n",
        "X_teste_poly = poly.transform(X_teste)"
      ],
      "execution_count": 0,
      "outputs": []
    },
    {
      "cell_type": "code",
      "metadata": {
        "id": "QtzrBZ9WkbXn",
        "colab_type": "code",
        "outputId": "d1719a1e-3c4f-44e6-c558-3f5ef4df7875",
        "colab": {
          "base_uri": "https://localhost:8080/",
          "height": 34
        }
      },
      "source": [
        "regressor = LinearRegression()\n",
        "regressor.fit(X_treinamento_poly, y_treinamento)"
      ],
      "execution_count": 0,
      "outputs": [
        {
          "output_type": "execute_result",
          "data": {
            "text/plain": [
              "LinearRegression(copy_X=True, fit_intercept=True, n_jobs=None, normalize=False)"
            ]
          },
          "metadata": {
            "tags": []
          },
          "execution_count": 87
        }
      ]
    },
    {
      "cell_type": "code",
      "metadata": {
        "id": "hLDvMJ_Kk2Tm",
        "colab_type": "code",
        "outputId": "84ac1a36-2c39-43aa-d7cb-ebaf2beb9273",
        "colab": {
          "base_uri": "https://localhost:8080/",
          "height": 34
        }
      },
      "source": [
        "score = regressor.score(X_treinamento_poly, y_treinamento)\n",
        "score"
      ],
      "execution_count": 0,
      "outputs": [
        {
          "output_type": "execute_result",
          "data": {
            "text/plain": [
              "0.8179372091164115"
            ]
          },
          "metadata": {
            "tags": []
          },
          "execution_count": 88
        }
      ]
    },
    {
      "cell_type": "code",
      "metadata": {
        "id": "xjz_Fpd2k3bT",
        "colab_type": "code",
        "outputId": "617d04c2-463b-4e42-d2e2-7adb705fcff6",
        "colab": {
          "base_uri": "https://localhost:8080/",
          "height": 51
        }
      },
      "source": [
        "previsoes = regressor.predict(X_teste_poly)\n",
        "previsoes"
      ],
      "execution_count": 0,
      "outputs": [
        {
          "output_type": "execute_result",
          "data": {
            "text/plain": [
              "array([ 386279.00621796, 1991142.84358978,  579098.07327271, ...,\n",
              "        432859.80838013,  234193.23796844,  123839.61455536])"
            ]
          },
          "metadata": {
            "tags": []
          },
          "execution_count": 90
        }
      ]
    },
    {
      "cell_type": "code",
      "metadata": {
        "id": "ybi7-v-ulOYB",
        "colab_type": "code",
        "colab": {}
      },
      "source": [
        "from sklearn.metrics import mean_absolute_error\n",
        "\n",
        "mea = mean_absolute_error(y_teste, previsoes)"
      ],
      "execution_count": 0,
      "outputs": []
    },
    {
      "cell_type": "code",
      "metadata": {
        "id": "-o2wl8uInEcV",
        "colab_type": "code",
        "outputId": "0ca0462f-1d75-40fe-af0f-982863ddb3d4",
        "colab": {
          "base_uri": "https://localhost:8080/",
          "height": 34
        }
      },
      "source": [
        "mea"
      ],
      "execution_count": 0,
      "outputs": [
        {
          "output_type": "execute_result",
          "data": {
            "text/plain": [
              "101225.5341387295"
            ]
          },
          "metadata": {
            "tags": []
          },
          "execution_count": 92
        }
      ]
    },
    {
      "cell_type": "markdown",
      "metadata": {
        "id": "5-aaAspynNBZ",
        "colab_type": "text"
      },
      "source": [
        "#Arvores de Decisão"
      ]
    },
    {
      "cell_type": "markdown",
      "metadata": {
        "id": "_R5sLG1Yd8dO",
        "colab_type": "text"
      },
      "source": [
        "##1.Base Plano de Saude 2"
      ]
    },
    {
      "cell_type": "code",
      "metadata": {
        "id": "qgjzdSo1nO2y",
        "colab_type": "code",
        "colab": {}
      },
      "source": [
        "X = base.iloc[:, 0:1].values\n",
        "y = base.iloc[:, 1].values"
      ],
      "execution_count": 0,
      "outputs": []
    },
    {
      "cell_type": "code",
      "metadata": {
        "id": "y3BR-gwKcOQm",
        "colab_type": "code",
        "colab": {}
      },
      "source": [
        "from sklearn.tree import DecisionTreeRegressor\n",
        "\n",
        "regressor = DecisionTreeRegressor()\n",
        "regressor.fit(X, y)\n",
        "score = regressor.fit(X, y)"
      ],
      "execution_count": 0,
      "outputs": []
    },
    {
      "cell_type": "code",
      "metadata": {
        "id": "3HWUNslEcOHp",
        "colab_type": "code",
        "outputId": "f60e1fb3-50c9-4f9d-c43d-afd2753437b5",
        "colab": {
          "base_uri": "https://localhost:8080/",
          "height": 119
        }
      },
      "source": [
        "score"
      ],
      "execution_count": 0,
      "outputs": [
        {
          "output_type": "execute_result",
          "data": {
            "text/plain": [
              "DecisionTreeRegressor(ccp_alpha=0.0, criterion='mse', max_depth=None,\n",
              "                      max_features=None, max_leaf_nodes=None,\n",
              "                      min_impurity_decrease=0.0, min_impurity_split=None,\n",
              "                      min_samples_leaf=1, min_samples_split=2,\n",
              "                      min_weight_fraction_leaf=0.0, presort='deprecated',\n",
              "                      random_state=None, splitter='best')"
            ]
          },
          "metadata": {
            "tags": []
          },
          "execution_count": 9
        }
      ]
    },
    {
      "cell_type": "code",
      "metadata": {
        "id": "CMhI1OWPcODB",
        "colab_type": "code",
        "colab": {}
      },
      "source": [
        ""
      ],
      "execution_count": 0,
      "outputs": []
    },
    {
      "cell_type": "code",
      "metadata": {
        "id": "1WbR83JWbvQY",
        "colab_type": "code",
        "outputId": "a974694b-94bd-4b4a-fa33-da989164c6c1",
        "colab": {
          "base_uri": "https://localhost:8080/",
          "height": 312
        }
      },
      "source": [
        "plt.scatter(X, y)\n",
        "plt.plot(X, regressor.predict(X), color='red')\n",
        "plt.title('Regressão com Arvores de Decisão')\n",
        "plt.xlabel('Idade')\n",
        "plt.ylabel('Custo')"
      ],
      "execution_count": 0,
      "outputs": [
        {
          "output_type": "execute_result",
          "data": {
            "text/plain": [
              "Text(0, 0.5, 'Custo')"
            ]
          },
          "metadata": {
            "tags": []
          },
          "execution_count": 11
        },
        {
          "output_type": "display_data",
          "data": {
            "image/png": "[encoded data removed]",
            "text/plain": [
              "<Figure size 432x288 with 1 Axes>"
            ]
          },
          "metadata": {
            "tags": [],
            "needs_background": "light"
          }
        }
      ]
    },
    {
      "cell_type": "code",
      "metadata": {
        "id": "xue3plTDcvFh",
        "colab_type": "code",
        "outputId": "74b311f3-dc1d-4eb6-e50a-ec21e3c9a236",
        "colab": {
          "base_uri": "https://localhost:8080/",
          "height": 312
        }
      },
      "source": [
        "X_teste = np.arange(min(X), max(X), 0.1)\n",
        "X_teste = X_teste.reshape(-1,1)\n",
        "\n",
        "plt.scatter(X, y)\n",
        "plt.plot(X_teste, regressor.predict(X_teste), color='red')\n",
        "plt.title('Regressão com Arvores de Decisão')\n",
        "plt.xlabel('Idade')\n",
        "plt.ylabel('Custo')"
      ],
      "execution_count": 0,
      "outputs": [
        {
          "output_type": "execute_result",
          "data": {
            "text/plain": [
              "Text(0, 0.5, 'Custo')"
            ]
          },
          "metadata": {
            "tags": []
          },
          "execution_count": 14
        },
        {
          "output_type": "display_data",
          "data": {
            "image/png": "[encoded data removed]",
            "text/plain": [
              "<Figure size 432x288 with 1 Axes>"
            ]
          },
          "metadata": {
            "tags": [],
            "needs_background": "light"
          }
        }
      ]
    },
    {
      "cell_type": "markdown",
      "metadata": {
        "id": "PUUblzxReASt",
        "colab_type": "text"
      },
      "source": [
        "##2.Base Preço Casas"
      ]
    },
    {
      "cell_type": "code",
      "metadata": {
        "id": "QHjn2sIWdnWL",
        "colab_type": "code",
        "colab": {}
      },
      "source": [
        "X = base.iloc[:, 3:19] .values\n",
        "y = base.iloc[:, 2].values"
      ],
      "execution_count": 0,
      "outputs": []
    },
    {
      "cell_type": "code",
      "metadata": {
        "id": "-Oy_k3xieIZp",
        "colab_type": "code",
        "colab": {}
      },
      "source": [
        "from sklearn.model_selection import train_test_split\n",
        "X_treinamento, X_teste, y_treinamento, y_teste = train_test_split(X, y, test_size=0.3, random_state=0)"
      ],
      "execution_count": 0,
      "outputs": []
    },
    {
      "cell_type": "code",
      "metadata": {
        "id": "k_AID6saeQ-h",
        "colab_type": "code",
        "outputId": "08890c24-e999-4bc7-ef54-ffbb5d2936d9",
        "colab": {
          "base_uri": "https://localhost:8080/",
          "height": 119
        }
      },
      "source": [
        "from sklearn.tree import DecisionTreeRegressor\n",
        "\n",
        "regressor = DecisionTreeRegressor()\n",
        "regressor.fit(X_treinamento, y_treinamento)"
      ],
      "execution_count": 0,
      "outputs": [
        {
          "output_type": "execute_result",
          "data": {
            "text/plain": [
              "DecisionTreeRegressor(ccp_alpha=0.0, criterion='mse', max_depth=None,\n",
              "                      max_features=None, max_leaf_nodes=None,\n",
              "                      min_impurity_decrease=0.0, min_impurity_split=None,\n",
              "                      min_samples_leaf=1, min_samples_split=2,\n",
              "                      min_weight_fraction_leaf=0.0, presort='deprecated',\n",
              "                      random_state=None, splitter='best')"
            ]
          },
          "metadata": {
            "tags": []
          },
          "execution_count": 18
        }
      ]
    },
    {
      "cell_type": "code",
      "metadata": {
        "id": "yqLp3UEnecZA",
        "colab_type": "code",
        "outputId": "50f135f7-047b-4c30-aa03-c03e9fe219bd",
        "colab": {
          "base_uri": "https://localhost:8080/",
          "height": 34
        }
      },
      "source": [
        "score = regressor.score(X_treinamento, y_treinamento)\n",
        "score"
      ],
      "execution_count": 0,
      "outputs": [
        {
          "output_type": "execute_result",
          "data": {
            "text/plain": [
              "0.9992712177726063"
            ]
          },
          "metadata": {
            "tags": []
          },
          "execution_count": 20
        }
      ]
    },
    {
      "cell_type": "code",
      "metadata": {
        "id": "qJZ1izCKeiU_",
        "colab_type": "code",
        "colab": {}
      },
      "source": [
        "previsoes = regressor.predict(X_teste)"
      ],
      "execution_count": 0,
      "outputs": []
    },
    {
      "cell_type": "code",
      "metadata": {
        "id": "gZ3fJdjnesfC",
        "colab_type": "code",
        "colab": {}
      },
      "source": [
        "from sklearn.metrics import mean_absolute_error\n",
        "\n",
        "mae = mean_absolute_error(y_teste, previsoes)"
      ],
      "execution_count": 0,
      "outputs": []
    },
    {
      "cell_type": "code",
      "metadata": {
        "id": "D1P-WZmce5jN",
        "colab_type": "code",
        "outputId": "b3d32370-e8d0-43d5-d63c-bb1cf7d7e052",
        "colab": {
          "base_uri": "https://localhost:8080/",
          "height": 34
        }
      },
      "source": [
        "mae"
      ],
      "execution_count": 0,
      "outputs": [
        {
          "output_type": "execute_result",
          "data": {
            "text/plain": [
              "99018.29973781617"
            ]
          },
          "metadata": {
            "tags": []
          },
          "execution_count": 23
        }
      ]
    },
    {
      "cell_type": "code",
      "metadata": {
        "id": "NEyXaUGte6Jt",
        "colab_type": "code",
        "outputId": "3ddf13f7-39cc-44f9-9f05-2bca9527e9df",
        "colab": {
          "base_uri": "https://localhost:8080/",
          "height": 34
        }
      },
      "source": [
        "regressor.score(X_teste, y_teste)"
      ],
      "execution_count": 0,
      "outputs": [
        {
          "output_type": "execute_result",
          "data": {
            "text/plain": [
              "0.7306918346747837"
            ]
          },
          "metadata": {
            "tags": []
          },
          "execution_count": 24
        }
      ]
    },
    {
      "cell_type": "markdown",
      "metadata": {
        "id": "L1Om8TFYfzUZ",
        "colab_type": "text"
      },
      "source": [
        "#Rando Forest"
      ]
    },
    {
      "cell_type": "markdown",
      "metadata": {
        "id": "7h8i7HR6f1MW",
        "colab_type": "text"
      },
      "source": [
        "##1.Base Plano de Saude 2"
      ]
    },
    {
      "cell_type": "code",
      "metadata": {
        "id": "J2g0ujb4fBDb",
        "colab_type": "code",
        "colab": {}
      },
      "source": [
        "X = base.iloc[:, 0:1].values\n",
        "y = base.iloc[:, 1].values"
      ],
      "execution_count": 0,
      "outputs": []
    },
    {
      "cell_type": "code",
      "metadata": {
        "id": "2slwZAG2f-tl",
        "colab_type": "code",
        "colab": {}
      },
      "source": [
        "from sklearn.ensemble import RandomForestRegressor\n",
        "\n",
        "regressor = RandomForestRegressor(n_estimators=8)\n",
        "regressor.fit(X, y)\n",
        "score = regressor.score(X, y)"
      ],
      "execution_count": 0,
      "outputs": []
    },
    {
      "cell_type": "code",
      "metadata": {
        "id": "1FYVX3bFgQTy",
        "colab_type": "code",
        "outputId": "7f04e2c8-ad87-492b-a550-315acb28e74e",
        "colab": {
          "base_uri": "https://localhost:8080/",
          "height": 34
        }
      },
      "source": [
        "score"
      ],
      "execution_count": 0,
      "outputs": [
        {
          "output_type": "execute_result",
          "data": {
            "text/plain": [
              "0.9883455066610257"
            ]
          },
          "metadata": {
            "tags": []
          },
          "execution_count": 44
        }
      ]
    },
    {
      "cell_type": "code",
      "metadata": {
        "id": "sslVqmJZgQ7d",
        "colab_type": "code",
        "outputId": "cb562899-3f7c-4b66-c312-2cbcccf9e23d",
        "colab": {
          "base_uri": "https://localhost:8080/",
          "height": 312
        }
      },
      "source": [
        "X_teste = np.arange(min(X), max(X), 0.1)\n",
        "X_teste = X_teste.reshape(-1,1)\n",
        "\n",
        "plt.scatter(X, y)\n",
        "plt.plot(X_teste, regressor.predict(X_teste), color='red')\n",
        "plt.title('Regressão com Arvores de Decisão')\n",
        "plt.xlabel('Idade')\n",
        "plt.ylabel('Custo')"
      ],
      "execution_count": 0,
      "outputs": [
        {
          "output_type": "execute_result",
          "data": {
            "text/plain": [
              "Text(0, 0.5, 'Custo')"
            ]
          },
          "metadata": {
            "tags": []
          },
          "execution_count": 29
        },
        {
          "output_type": "display_data",
          "data": {
            "image/png": "[encoded data removed]",
            "text/plain": [
              "<Figure size 432x288 with 1 Axes>"
            ]
          },
          "metadata": {
            "tags": [],
            "needs_background": "light"
          }
        }
      ]
    },
    {
      "cell_type": "markdown",
      "metadata": {
        "id": "utJ0I1y9gz6B",
        "colab_type": "text"
      },
      "source": [
        "##2.Base Preço Casas"
      ]
    },
    {
      "cell_type": "code",
      "metadata": {
        "id": "1yziVzz6gb1y",
        "colab_type": "code",
        "colab": {}
      },
      "source": [
        "X = base.iloc[:, 3:19] .values\n",
        "y = base.iloc[:, 2].values"
      ],
      "execution_count": 0,
      "outputs": []
    },
    {
      "cell_type": "code",
      "metadata": {
        "id": "46-7wTKig7Xk",
        "colab_type": "code",
        "colab": {}
      },
      "source": [
        "from sklearn.model_selection import train_test_split\n",
        "X_treinamento, X_teste, y_treinamento, y_teste = train_test_split(X, y, test_size=0.3, random_state=0)"
      ],
      "execution_count": 0,
      "outputs": []
    },
    {
      "cell_type": "code",
      "metadata": {
        "id": "_brg9Af-g9Su",
        "colab_type": "code",
        "outputId": "9668d41b-54da-4856-d7c8-4f6f4a07f0e0",
        "colab": {
          "base_uri": "https://localhost:8080/",
          "height": 136
        }
      },
      "source": [
        "from sklearn.ensemble import RandomForestRegressor\n",
        "\n",
        "regressor = RandomForestRegressor()\n",
        "regressor.fit(X_treinamento, y_treinamento)"
      ],
      "execution_count": 0,
      "outputs": [
        {
          "output_type": "execute_result",
          "data": {
            "text/plain": [
              "RandomForestRegressor(bootstrap=True, ccp_alpha=0.0, criterion='mse',\n",
              "                      max_depth=None, max_features='auto', max_leaf_nodes=None,\n",
              "                      max_samples=None, min_impurity_decrease=0.0,\n",
              "                      min_impurity_split=None, min_samples_leaf=1,\n",
              "                      min_samples_split=2, min_weight_fraction_leaf=0.0,\n",
              "                      n_estimators=100, n_jobs=None, oob_score=False,\n",
              "                      random_state=None, verbose=0, warm_start=False)"
            ]
          },
          "metadata": {
            "tags": []
          },
          "execution_count": 49
        }
      ]
    },
    {
      "cell_type": "code",
      "metadata": {
        "id": "6anxyYQChFQQ",
        "colab_type": "code",
        "outputId": "12aacf69-b40f-4ef0-8a96-8ff5fb57176d",
        "colab": {
          "base_uri": "https://localhost:8080/",
          "height": 34
        }
      },
      "source": [
        "score = regressor.score(X_treinamento, y_treinamento)\n",
        "score"
      ],
      "execution_count": 0,
      "outputs": [
        {
          "output_type": "execute_result",
          "data": {
            "text/plain": [
              "0.9813687796312726"
            ]
          },
          "metadata": {
            "tags": []
          },
          "execution_count": 51
        }
      ]
    },
    {
      "cell_type": "code",
      "metadata": {
        "id": "roYwcxqghQoE",
        "colab_type": "code",
        "colab": {}
      },
      "source": [
        "previsoes = regressor.predict(X_teste)"
      ],
      "execution_count": 0,
      "outputs": []
    },
    {
      "cell_type": "code",
      "metadata": {
        "id": "cpkS-amrhXPT",
        "colab_type": "code",
        "colab": {}
      },
      "source": [
        "from sklearn.metrics import mean_absolute_error\n",
        "\n",
        "mae = mean_absolute_error(y_teste, previsoes)"
      ],
      "execution_count": 0,
      "outputs": []
    },
    {
      "cell_type": "code",
      "metadata": {
        "id": "UR-Quj1Shg5P",
        "colab_type": "code",
        "outputId": "65650fb3-0d88-49d5-a74b-1d1c32ba117b",
        "colab": {
          "base_uri": "https://localhost:8080/",
          "height": 34
        }
      },
      "source": [
        "mae"
      ],
      "execution_count": 0,
      "outputs": [
        {
          "output_type": "execute_result",
          "data": {
            "text/plain": [
              "68043.64810287594"
            ]
          },
          "metadata": {
            "tags": []
          },
          "execution_count": 54
        }
      ]
    },
    {
      "cell_type": "code",
      "metadata": {
        "id": "0bBT45F7hhn4",
        "colab_type": "code",
        "outputId": "e30340b8-d699-4989-9ed3-72d955040b95",
        "colab": {
          "base_uri": "https://localhost:8080/",
          "height": 34
        }
      },
      "source": [
        "regressor.score(X_teste, y_teste)"
      ],
      "execution_count": 0,
      "outputs": [
        {
          "output_type": "execute_result",
          "data": {
            "text/plain": [
              "0.8792888129318428"
            ]
          },
          "metadata": {
            "tags": []
          },
          "execution_count": 55
        }
      ]
    },
    {
      "cell_type": "markdown",
      "metadata": {
        "id": "0b1rX2jainTJ",
        "colab_type": "text"
      },
      "source": [
        "#SVR"
      ]
    },
    {
      "cell_type": "markdown",
      "metadata": {
        "id": "1TxT7uHDiqPb",
        "colab_type": "text"
      },
      "source": [
        "##Base Plano de Saude 2"
      ]
    },
    {
      "cell_type": "code",
      "metadata": {
        "id": "qcw1mTYch4Dv",
        "colab_type": "code",
        "colab": {}
      },
      "source": [
        "X = base.iloc[:, 0:1].values\n",
        "y = base.iloc[:, 1:2].values"
      ],
      "execution_count": 0,
      "outputs": []
    },
    {
      "cell_type": "code",
      "metadata": {
        "id": "6hcGF8I7iyIt",
        "colab_type": "code",
        "outputId": "49714c49-58eb-4063-e409-9a68ad82451f",
        "colab": {
          "base_uri": "https://localhost:8080/",
          "height": 34
        }
      },
      "source": [
        "from sklearn.svm import SVR\n",
        "\n",
        "regressor_linear = SVR(kernel='linear')\n",
        "regressor_linear.fit(X, y)\n",
        "score = regressor_linear.score(X, y)\n",
        "score"
      ],
      "execution_count": 0,
      "outputs": [
        {
          "output_type": "execute_result",
          "data": {
            "text/plain": [
              "0.294299767185203"
            ]
          },
          "metadata": {
            "tags": []
          },
          "execution_count": 67
        }
      ]
    },
    {
      "cell_type": "code",
      "metadata": {
        "id": "Ityr-PDSjA2j",
        "colab_type": "code",
        "outputId": "c7f24917-d1b7-4a6a-acfd-b9e44e03de5f",
        "colab": {
          "base_uri": "https://localhost:8080/",
          "height": 312
        }
      },
      "source": [
        "plt.scatter(X, y)\n",
        "plt.plot(X, regressor_linear.predict(X), color='red')\n",
        "plt.title('Regressão com Arvores de Decisão')\n",
        "plt.xlabel('Idade')\n",
        "plt.ylabel('Custo')"
      ],
      "execution_count": 0,
      "outputs": [
        {
          "output_type": "execute_result",
          "data": {
            "text/plain": [
              "Text(0, 0.5, 'Custo')"
            ]
          },
          "metadata": {
            "tags": []
          },
          "execution_count": 68
        },
        {
          "output_type": "display_data",
          "data": {
            "image/png": "[encoded data removed]",
            "text/plain": [
              "<Figure size 432x288 with 1 Axes>"
            ]
          },
          "metadata": {
            "tags": [],
            "needs_background": "light"
          }
        }
      ]
    },
    {
      "cell_type": "code",
      "metadata": {
        "id": "mZf_d4rAjKsP",
        "colab_type": "code",
        "outputId": "95d96a9d-aa1a-48b3-9571-5d5f6a2d8212",
        "colab": {
          "base_uri": "https://localhost:8080/",
          "height": 34
        }
      },
      "source": [
        "regressor_poly = SVR(kernel='poly')\n",
        "regressor_poly.fit(X, y)\n",
        "score_poly = regressor_poly.score(X, y)\n",
        "score_poly"
      ],
      "execution_count": 0,
      "outputs": [
        {
          "output_type": "execute_result",
          "data": {
            "text/plain": [
              "0.6697433307984383"
            ]
          },
          "metadata": {
            "tags": []
          },
          "execution_count": 75
        }
      ]
    },
    {
      "cell_type": "code",
      "metadata": {
        "id": "2J6trUgTjeYU",
        "colab_type": "code",
        "outputId": "bdc178b8-65e9-4af3-edea-47abd3c0c4b9",
        "colab": {
          "base_uri": "https://localhost:8080/",
          "height": 312
        }
      },
      "source": [
        "plt.scatter(X, y)\n",
        "plt.plot(X, regressor_poly.predict(X), color='red')\n",
        "plt.title('Regressão com Arvores de Decisão')\n",
        "plt.xlabel('Idade')\n",
        "plt.ylabel('Custo')"
      ],
      "execution_count": 0,
      "outputs": [
        {
          "output_type": "execute_result",
          "data": {
            "text/plain": [
              "Text(0, 0.5, 'Custo')"
            ]
          },
          "metadata": {
            "tags": []
          },
          "execution_count": 76
        },
        {
          "output_type": "display_data",
          "data": {
            "image/png": "[encoded data removed]",
            "text/plain": [
              "<Figure size 432x288 with 1 Axes>"
            ]
          },
          "metadata": {
            "tags": [],
            "needs_background": "light"
          }
        }
      ]
    },
    {
      "cell_type": "code",
      "metadata": {
        "id": "vg72sXAZjlGx",
        "colab_type": "code",
        "outputId": "aec124e6-3bde-452d-e7e7-6db5f3b36de5",
        "colab": {
          "base_uri": "https://localhost:8080/",
          "height": 88
        }
      },
      "source": [
        "from sklearn.preprocessing import StandardScaler\n",
        "scaler_X = StandardScaler()\n",
        "X = scaler_X.fit_transform(X)\n",
        "scaler_y = StandardScaler()\n",
        "y = scaler_y.fit_transform(y)\n",
        "\n",
        "regressor_rbf = SVR(kernel='rbf')\n",
        "regressor_rbf.fit(X, y)\n",
        "score_rbf = regressor_rbf.score(X, y)\n",
        "score_rbf"
      ],
      "execution_count": 0,
      "outputs": [
        {
          "output_type": "stream",
          "text": [
            "/usr/local/lib/python3.6/dist-packages/sklearn/utils/validation.py:760: DataConversionWarning: A column-vector y was passed when a 1d array was expected. Please change the shape of y to (n_samples, ), for example using ravel().\n",
            "  y = column_or_1d(y, warn=True)\n"
          ],
          "name": "stderr"
        },
        {
          "output_type": "execute_result",
          "data": {
            "text/plain": [
              "0.7561578176049305"
            ]
          },
          "metadata": {
            "tags": []
          },
          "execution_count": 81
        }
      ]
    },
    {
      "cell_type": "code",
      "metadata": {
        "id": "WfJYv8hxj3gm",
        "colab_type": "code",
        "outputId": "ad24e978-4afb-478e-9f80-8cf4486fc1e8",
        "colab": {
          "base_uri": "https://localhost:8080/",
          "height": 312
        }
      },
      "source": [
        "plt.scatter(X, y)\n",
        "plt.plot(X, regressor_rbf.predict(X), color='red')\n",
        "plt.title('Regressão com Arvores de Decisão')\n",
        "plt.xlabel('Idade')\n",
        "plt.ylabel('Custo')"
      ],
      "execution_count": 0,
      "outputs": [
        {
          "output_type": "execute_result",
          "data": {
            "text/plain": [
              "Text(0, 0.5, 'Custo')"
            ]
          },
          "metadata": {
            "tags": []
          },
          "execution_count": 82
        },
        {
          "output_type": "display_data",
          "data": {
            "image/png": "[encoded data removed]",
            "text/plain": [
              "<Figure size 432x288 with 1 Axes>"
            ]
          },
          "metadata": {
            "tags": [],
            "needs_background": "light"
          }
        }
      ]
    },
    {
      "cell_type": "code",
      "metadata": {
        "id": "C8cCjRAYkDK6",
        "colab_type": "code",
        "outputId": "508067c8-57d7-4da3-c386-ae8716b08ee4",
        "colab": {
          "base_uri": "https://localhost:8080/",
          "height": 34
        }
      },
      "source": [
        "previsao_linear = scaler_y.inverse_transform(regressor_linear.predict(scaler_X.transform([[40]])))\n",
        "previsao_linear"
      ],
      "execution_count": 0,
      "outputs": [
        {
          "output_type": "execute_result",
          "data": {
            "text/plain": [
              "array([-2520181.24449524])"
            ]
          },
          "metadata": {
            "tags": []
          },
          "execution_count": 86
        }
      ]
    },
    {
      "cell_type": "code",
      "metadata": {
        "id": "WR6et6rdlKCY",
        "colab_type": "code",
        "outputId": "0bfad14d-663b-4a79-a32b-4a2ddd63d6b8",
        "colab": {
          "base_uri": "https://localhost:8080/",
          "height": 34
        }
      },
      "source": [
        "previsao_poly = scaler_y.inverse_transform(regressor_poly.predict(scaler_X.transform([[40]])))\n",
        "previsao_poly"
      ],
      "execution_count": 0,
      "outputs": [
        {
          "output_type": "execute_result",
          "data": {
            "text/plain": [
              "array([593313.79043875])"
            ]
          },
          "metadata": {
            "tags": []
          },
          "execution_count": 87
        }
      ]
    },
    {
      "cell_type": "code",
      "metadata": {
        "id": "RuyWr4qWlrf7",
        "colab_type": "code",
        "outputId": "603afe6f-1ceb-4429-b71a-6c7dd3196699",
        "colab": {
          "base_uri": "https://localhost:8080/",
          "height": 34
        }
      },
      "source": [
        "previsao_rbf = scaler_y.inverse_transform(regressor_rbf.predict(scaler_X.transform([[40]])))\n",
        "previsao_rbf"
      ],
      "execution_count": 0,
      "outputs": [
        {
          "output_type": "execute_result",
          "data": {
            "text/plain": [
              "array([1333.85650748])"
            ]
          },
          "metadata": {
            "tags": []
          },
          "execution_count": 88
        }
      ]
    },
    {
      "cell_type": "markdown",
      "metadata": {
        "id": "s3ZPQMkZmARC",
        "colab_type": "text"
      },
      "source": [
        "##2.Base Preço Casas"
      ]
    },
    {
      "cell_type": "code",
      "metadata": {
        "id": "Ufy9m_44lvFj",
        "colab_type": "code",
        "colab": {}
      },
      "source": [
        "X = base.iloc[:, 3:19] .values\n",
        "y = base.iloc[:, 2:3].values"
      ],
      "execution_count": 0,
      "outputs": []
    },
    {
      "cell_type": "code",
      "metadata": {
        "id": "vZFeqsWOmItl",
        "colab_type": "code",
        "colab": {}
      },
      "source": [
        "from sklearn.preprocessing import StandardScaler\n",
        "scaler_X = StandardScaler()\n",
        "X = scaler_X.fit_transform(X)\n",
        "scaler_y = StandardScaler()\n",
        "y = scaler_y.fit_transform(y)"
      ],
      "execution_count": 0,
      "outputs": []
    },
    {
      "cell_type": "code",
      "metadata": {
        "id": "TUOgOolWmGkw",
        "colab_type": "code",
        "colab": {}
      },
      "source": [
        "from sklearn.model_selection import train_test_split\n",
        "X_treinamento, X_teste, y_treinamento, y_teste = train_test_split(X, y, test_size=0.3, random_state=0)"
      ],
      "execution_count": 0,
      "outputs": []
    },
    {
      "cell_type": "code",
      "metadata": {
        "id": "p8PLzqzxmUFh",
        "colab_type": "code",
        "outputId": "67c7cfac-49d4-4674-e560-b5b8cd9b4787",
        "colab": {
          "base_uri": "https://localhost:8080/",
          "height": 88
        }
      },
      "source": [
        "from sklearn.svm import SVR\n",
        "\n",
        "regressor = SVR(kernel='rbf')\n",
        "regressor.fit(X_treinamento, y_treinamento)\n",
        "score = regressor.score(X_treinamento, y_treinamento)\n",
        "score"
      ],
      "execution_count": 0,
      "outputs": [
        {
          "output_type": "stream",
          "text": [
            "/usr/local/lib/python3.6/dist-packages/sklearn/utils/validation.py:760: DataConversionWarning: A column-vector y was passed when a 1d array was expected. Please change the shape of y to (n_samples, ), for example using ravel().\n",
            "  y = column_or_1d(y, warn=True)\n"
          ],
          "name": "stderr"
        },
        {
          "output_type": "execute_result",
          "data": {
            "text/plain": [
              "0.8123465093269253"
            ]
          },
          "metadata": {
            "tags": []
          },
          "execution_count": 11
        }
      ]
    },
    {
      "cell_type": "code",
      "metadata": {
        "id": "TatjrIo3mesq",
        "colab_type": "code",
        "colab": {}
      },
      "source": [
        "previsoes = regressor.predict(X_teste)"
      ],
      "execution_count": 0,
      "outputs": []
    },
    {
      "cell_type": "code",
      "metadata": {
        "id": "ALTHXTPomivz",
        "colab_type": "code",
        "colab": {}
      },
      "source": [
        "y_teste = scaler_y.inverse_transform(y_teste)\n",
        "previsoes = scaler_y.inverse_transform(previsoes)"
      ],
      "execution_count": 0,
      "outputs": []
    },
    {
      "cell_type": "code",
      "metadata": {
        "id": "Bu-ysBDknaCD",
        "colab_type": "code",
        "outputId": "0388ac0b-0035-494a-c3ac-932beb1cfbab",
        "colab": {
          "base_uri": "https://localhost:8080/",
          "height": 34
        }
      },
      "source": [
        "from sklearn.metrics import mean_absolute_error\n",
        "mae = mean_absolute_error(y_teste, previsoes)\n",
        "mae"
      ],
      "execution_count": 0,
      "outputs": [
        {
          "output_type": "execute_result",
          "data": {
            "text/plain": [
              "82486.05823058811"
            ]
          },
          "metadata": {
            "tags": []
          },
          "execution_count": 14
        }
      ]
    },
    {
      "cell_type": "code",
      "metadata": {
        "id": "od706B23nlAa",
        "colab_type": "code",
        "colab": {}
      },
      "source": [
        "regressor.score()"
      ],
      "execution_count": 0,
      "outputs": []
    },
    {
      "cell_type": "markdown",
      "metadata": {
        "id": "R28mbkwdosd8",
        "colab_type": "text"
      },
      "source": [
        "#Redes Neurais"
      ]
    },
    {
      "cell_type": "markdown",
      "metadata": {
        "id": "adsG075Iou_9",
        "colab_type": "text"
      },
      "source": [
        "##1.Base Plano Saúde 2"
      ]
    },
    {
      "cell_type": "code",
      "metadata": {
        "id": "2XLpFsMKouDW",
        "colab_type": "code",
        "colab": {}
      },
      "source": [
        "X = base.iloc[:, 0:1].values\n",
        "y = base.iloc[:, 1:2].values"
      ],
      "execution_count": 0,
      "outputs": []
    },
    {
      "cell_type": "code",
      "metadata": {
        "id": "4bpaON6To0if",
        "colab_type": "code",
        "colab": {}
      },
      "source": [
        "from sklearn.preprocessing import StandardScaler\n",
        "scaler_X = StandardScaler()\n",
        "X = scaler_X.fit_transform(X)\n",
        "scaler_y = StandardScaler()\n",
        "y = scaler_y.fit_transform(y)"
      ],
      "execution_count": 0,
      "outputs": []
    },
    {
      "cell_type": "code",
      "metadata": {
        "id": "g1RijnUfo9RR",
        "colab_type": "code",
        "outputId": "8ef280eb-9ef1-4e4a-f754-39b1fd39dbff",
        "colab": {
          "base_uri": "https://localhost:8080/",
          "height": 241
        }
      },
      "source": [
        "from sklearn.neural_network import MLPRegressor\n",
        "\n",
        "regressor = MLPRegressor(hidden_layer_sizes=100, activation='relu')\n",
        "regressor.fit(X, y)"
      ],
      "execution_count": 0,
      "outputs": [
        {
          "output_type": "stream",
          "text": [
            "/usr/local/lib/python3.6/dist-packages/sklearn/neural_network/_multilayer_perceptron.py:1342: DataConversionWarning: A column-vector y was passed when a 1d array was expected. Please change the shape of y to (n_samples, ), for example using ravel().\n",
            "  y = column_or_1d(y, warn=True)\n",
            "/usr/local/lib/python3.6/dist-packages/sklearn/neural_network/_multilayer_perceptron.py:571: ConvergenceWarning: Stochastic Optimizer: Maximum iterations (200) reached and the optimization hasn't converged yet.\n",
            "  % self.max_iter, ConvergenceWarning)\n"
          ],
          "name": "stderr"
        },
        {
          "output_type": "execute_result",
          "data": {
            "text/plain": [
              "MLPRegressor(activation='relu', alpha=0.0001, batch_size='auto', beta_1=0.9,\n",
              "             beta_2=0.999, early_stopping=False, epsilon=1e-08,\n",
              "             hidden_layer_sizes=100, learning_rate='constant',\n",
              "             learning_rate_init=0.001, max_fun=15000, max_iter=200,\n",
              "             momentum=0.9, n_iter_no_change=10, nesterovs_momentum=True,\n",
              "             power_t=0.5, random_state=None, shuffle=True, solver='adam',\n",
              "             tol=0.0001, validation_fraction=0.1, verbose=False,\n",
              "             warm_start=False)"
            ]
          },
          "metadata": {
            "tags": []
          },
          "execution_count": 21
        }
      ]
    },
    {
      "cell_type": "code",
      "metadata": {
        "id": "0ekt6sPkpcRQ",
        "colab_type": "code",
        "outputId": "420520e9-2d1f-4167-d18a-983779dd7931",
        "colab": {
          "base_uri": "https://localhost:8080/",
          "height": 34
        }
      },
      "source": [
        "regressor.score(X, y)"
      ],
      "execution_count": 0,
      "outputs": [
        {
          "output_type": "execute_result",
          "data": {
            "text/plain": [
              "0.8910459771521098"
            ]
          },
          "metadata": {
            "tags": []
          },
          "execution_count": 22
        }
      ]
    },
    {
      "cell_type": "code",
      "metadata": {
        "id": "0kx8n2y6pgcl",
        "colab_type": "code",
        "outputId": "a5ff5355-e726-4c4f-8293-1748419891a0",
        "colab": {
          "base_uri": "https://localhost:8080/",
          "height": 312
        }
      },
      "source": [
        "plt.scatter(X, y)\n",
        "plt.plot(X, regressor.predict(X), color='red')\n",
        "plt.title('Regressão com Arvores de Decisão')\n",
        "plt.xlabel('Idade')\n",
        "plt.ylabel('Custo')"
      ],
      "execution_count": 0,
      "outputs": [
        {
          "output_type": "execute_result",
          "data": {
            "text/plain": [
              "Text(0, 0.5, 'Custo')"
            ]
          },
          "metadata": {
            "tags": []
          },
          "execution_count": 23
        },
        {
          "output_type": "display_data",
          "data": {
            "image/png": "[encoded data removed]",
            "text/plain": [
              "<Figure size 432x288 with 1 Axes>"
            ]
          },
          "metadata": {
            "tags": [],
            "needs_background": "light"
          }
        }
      ]
    },
    {
      "cell_type": "code",
      "metadata": {
        "id": "xB6HQCmTpltr",
        "colab_type": "code",
        "outputId": "fdb9436b-be26-41d6-a474-dc9e5001ae56",
        "colab": {
          "base_uri": "https://localhost:8080/",
          "height": 34
        }
      },
      "source": [
        "previsao = regressor.predict(scaler_X.transform([[40]]))\n",
        "scaler_y.inverse_transform(previsao)"
      ],
      "execution_count": 0,
      "outputs": [
        {
          "output_type": "execute_result",
          "data": {
            "text/plain": [
              "array([1026.98019849])"
            ]
          },
          "metadata": {
            "tags": []
          },
          "execution_count": 28
        }
      ]
    },
    {
      "cell_type": "markdown",
      "metadata": {
        "id": "gEryDeuDqGed",
        "colab_type": "text"
      },
      "source": [
        "##2.Base Preço Casas"
      ]
    },
    {
      "cell_type": "code",
      "metadata": {
        "id": "NIpR2ni1pwWQ",
        "colab_type": "code",
        "colab": {}
      },
      "source": [
        "X = base.iloc[:, 3:19] .values\n",
        "y = base.iloc[:, 2:3].values"
      ],
      "execution_count": 0,
      "outputs": []
    },
    {
      "cell_type": "code",
      "metadata": {
        "id": "YHwfnlUyqMy0",
        "colab_type": "code",
        "colab": {}
      },
      "source": [
        "from sklearn.preprocessing import StandardScaler\n",
        "scaler_X = StandardScaler()\n",
        "X = scaler_X.fit_transform(X)\n",
        "scaler_y = StandardScaler()\n",
        "y = scaler_y.fit_transform(y)"
      ],
      "execution_count": 0,
      "outputs": []
    },
    {
      "cell_type": "code",
      "metadata": {
        "id": "mjJIf0jrq0Hq",
        "colab_type": "code",
        "colab": {}
      },
      "source": [
        "from sklearn.model_selection import train_test_split\n",
        "X_treinamento, X_teste, y_treinamento, y_teste = train_test_split(X, y, test_size=0.3, random_state=0)"
      ],
      "execution_count": 0,
      "outputs": []
    },
    {
      "cell_type": "code",
      "metadata": {
        "id": "nOO9aIUKqOUN",
        "colab_type": "code",
        "outputId": "aed6c900-e598-4874-b55a-e4b22e2dfd2f",
        "colab": {
          "base_uri": "https://localhost:8080/",
          "height": 122
        }
      },
      "source": [
        "from sklearn.neural_network import MLPRegressor\n",
        "\n",
        "regressor = MLPRegressor(hidden_layer_sizes=(9,9, 9), activation='relu', solver='adam')\n",
        "regressor.fit(X_treinamento, y_treinamento)\n",
        "regressor.score(X_treinamento, y_treinamento)"
      ],
      "execution_count": 0,
      "outputs": [
        {
          "output_type": "stream",
          "text": [
            "/usr/local/lib/python3.6/dist-packages/sklearn/neural_network/_multilayer_perceptron.py:1342: DataConversionWarning: A column-vector y was passed when a 1d array was expected. Please change the shape of y to (n_samples, ), for example using ravel().\n",
            "  y = column_or_1d(y, warn=True)\n",
            "/usr/local/lib/python3.6/dist-packages/sklearn/neural_network/_multilayer_perceptron.py:571: ConvergenceWarning: Stochastic Optimizer: Maximum iterations (200) reached and the optimization hasn't converged yet.\n",
            "  % self.max_iter, ConvergenceWarning)\n"
          ],
          "name": "stderr"
        },
        {
          "output_type": "execute_result",
          "data": {
            "text/plain": [
              "0.898432134902824"
            ]
          },
          "metadata": {
            "tags": []
          },
          "execution_count": 41
        }
      ]
    },
    {
      "cell_type": "code",
      "metadata": {
        "id": "vY8rGggVqhbs",
        "colab_type": "code",
        "outputId": "4aba8b3e-75e7-4b0e-c328-bed86b684845",
        "colab": {
          "base_uri": "https://localhost:8080/",
          "height": 34
        }
      },
      "source": [
        "score = regressor.score(X_treinamento, y_treinamento)\n",
        "score"
      ],
      "execution_count": 0,
      "outputs": [
        {
          "output_type": "execute_result",
          "data": {
            "text/plain": [
              "0.898432134902824"
            ]
          },
          "metadata": {
            "tags": []
          },
          "execution_count": 42
        }
      ]
    },
    {
      "cell_type": "code",
      "metadata": {
        "id": "qgkwsc2dqrei",
        "colab_type": "code",
        "outputId": "13beb536-2a49-4f68-8400-ed4d2df2f62f",
        "colab": {
          "base_uri": "https://localhost:8080/",
          "height": 34
        }
      },
      "source": [
        "regressor.score(X_teste, y_teste)"
      ],
      "execution_count": 0,
      "outputs": [
        {
          "output_type": "execute_result",
          "data": {
            "text/plain": [
              "0.8815966532765438"
            ]
          },
          "metadata": {
            "tags": []
          },
          "execution_count": 43
        }
      ]
    },
    {
      "cell_type": "code",
      "metadata": {
        "id": "Bk_h264_rkiV",
        "colab_type": "code",
        "colab": {}
      },
      "source": [
        ""
      ],
      "execution_count": 0,
      "outputs": []
    }
  ]
}