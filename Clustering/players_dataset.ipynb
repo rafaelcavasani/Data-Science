{
 "cells": [
  {
   "cell_type": "markdown",
   "metadata": {},
   "source": [
    "# Tratamento dos dados"
   ]
  },
  {
   "cell_type": "code",
   "execution_count": 2,
   "metadata": {
    "colab": {},
    "colab_type": "code",
    "id": "-K5dGAJ7_62F"
   },
   "outputs": [],
   "source": [
    "import pandas as pd"
   ]
  },
  {
   "cell_type": "markdown",
   "metadata": {
    "colab_type": "text",
    "id": "ivyqHZUvPtsH"
   },
   "source": [
    "## Importando Bases de Dados"
   ]
  },
  {
   "cell_type": "code",
   "execution_count": 3,
   "metadata": {
    "colab": {
     "base_uri": "https://localhost:8080/",
     "height": 411
    },
    "colab_type": "code",
    "id": "BTfDFBIeKAfN",
    "outputId": "7309b213-195b-4c92-ef08-8da53b8051bd"
   },
   "outputs": [],
   "source": [
    "goals = pd.read_csv('goals.csv')\n",
    "matches = pd.read_csv('matches.csv', dtype={\"match_type\": \"category\"})"
   ]
  },
  {
   "cell_type": "markdown",
   "metadata": {
    "colab_type": "text",
    "id": "7a8zx8ytPzDk"
   },
   "source": [
    "## Informações Sobre os Dados - Matches"
   ]
  },
  {
   "cell_type": "code",
   "execution_count": 0,
   "metadata": {
    "colab": {},
    "colab_type": "code",
    "id": "MMYeOXsmQAYP"
   },
   "outputs": [],
   "source": [
    "matches.info()"
   ]
  },
  {
   "cell_type": "code",
   "execution_count": 0,
   "metadata": {
    "colab": {},
    "colab_type": "code",
    "id": "C7c23cnDKF6p"
   },
   "outputs": [],
   "source": [
    "matches.sample(10)"
   ]
  },
  {
   "cell_type": "code",
   "execution_count": 0,
   "metadata": {
    "colab": {},
    "colab_type": "code",
    "id": "IlpPaJhqPtAu"
   },
   "outputs": [],
   "source": [
    "matches.describe()"
   ]
  },
  {
   "cell_type": "code",
   "execution_count": 0,
   "metadata": {
    "colab": {},
    "colab_type": "code",
    "id": "J5r6o6zOOMSe"
   },
   "outputs": [],
   "source": [
    "goals.head()"
   ]
  },
  {
   "cell_type": "markdown",
   "metadata": {
    "colab_type": "text",
    "id": "JfiJNPdPWf6Z"
   },
   "source": [
    "Número de gols por jogador"
   ]
  },
  {
   "cell_type": "markdown",
   "metadata": {
    "colab_type": "text",
    "id": "-09HyN8SYQoG"
   },
   "source": [
    "Identificar em cada Partida:\n",
    "* Quem venceu e quem perdeu o jogo;\n",
    "* Quantos gols foram marcados por cada jogador;\n",
    "* A vitória foi fácil;"
   ]
  },
  {
   "cell_type": "markdown",
   "metadata": {
    "colab_type": "text",
    "id": "MYnYa_FlcNa2"
   },
   "source": [
    "### Inserindo colunas ['goals_players_1', 'goals_players_2', 'winner', 'defeated', 'easy_win'] no dataframe matches"
   ]
  },
  {
   "cell_type": "code",
   "execution_count": 0,
   "metadata": {
    "colab": {},
    "colab_type": "code",
    "id": "OYxcTDN-UqLD"
   },
   "outputs": [],
   "source": [
    "for index, row in matches.iterrows():\n",
    "  goals_player_1 = goals.query(\"match_id == @row.match_id and player_id == @row.player_1\")['goal_id'].count()\n",
    "  goals_player_2 = goals.query(\"match_id == @row.match_id and player_id == @row.player_2\")['goal_id'].count()\n",
    "  winner = row.player_1 if goals_player_1 > goals_player_2 else row['player_2']\n",
    "  defeated = row.player_2 if goals_player_1 > goals_player_2 else row['player_1']\n",
    "  easy_win = abs(goals_player_1 - goals_player_2) > 4\n",
    "  matches.at[index, 'goals_player_1'] = goals_player_1\n",
    "  matches.at[index, 'goals_player_2'] = goals_player_2\n",
    "  matches.at[index, 'winner'] = winner\n",
    "  matches.at[index, 'defeated'] = defeated\n",
    "  matches.at[index, 'easy_win'] = easy_win"
   ]
  },
  {
   "cell_type": "code",
   "execution_count": 0,
   "metadata": {
    "colab": {},
    "colab_type": "code",
    "id": "1jN42R8B4XCM"
   },
   "outputs": [],
   "source": [
    "matches.to_csv('matches_goals.csv')"
   ]
  },
  {
   "cell_type": "markdown",
   "metadata": {
    "colab_type": "text",
    "id": "xZa4G0_sM6AU"
   },
   "source": [
    "# Importando base 'matches_with_goals.csv'\n"
   ]
  },
  {
   "cell_type": "code",
   "execution_count": 0,
   "metadata": {
    "colab": {},
    "colab_type": "code",
    "id": "SweJDNkRHVyH"
   },
   "outputs": [],
   "source": [
    "matches = pd.read_csv('matches_with_goals.csv')"
   ]
  },
  {
   "cell_type": "code",
   "execution_count": 0,
   "metadata": {
    "colab": {
     "base_uri": "https://localhost:8080/",
     "height": 224
    },
    "colab_type": "code",
    "id": "q_d-0pxpncZ3",
    "outputId": "d6c0866b-6e7a-48dc-be23-6366fee03de1"
   },
   "outputs": [
    {
     "data": {
      "text/html": [
       "<div>\n",
       "<style scoped>\n",
       "    .dataframe tbody tr th:only-of-type {\n",
       "        vertical-align: middle;\n",
       "    }\n",
       "\n",
       "    .dataframe tbody tr th {\n",
       "        vertical-align: top;\n",
       "    }\n",
       "\n",
       "    .dataframe thead th {\n",
       "        text-align: right;\n",
       "    }\n",
       "</style>\n",
       "<table border=\"1\" class=\"dataframe\">\n",
       "  <thead>\n",
       "    <tr style=\"text-align: right;\">\n",
       "      <th></th>\n",
       "      <th>match_id</th>\n",
       "      <th>match_type</th>\n",
       "      <th>player_1</th>\n",
       "      <th>player_2</th>\n",
       "      <th>match_date</th>\n",
       "      <th>match_duration</th>\n",
       "      <th>goals_player_1</th>\n",
       "      <th>goals_player_2</th>\n",
       "      <th>winner</th>\n",
       "      <th>defeated</th>\n",
       "      <th>easy_win</th>\n",
       "    </tr>\n",
       "  </thead>\n",
       "  <tbody>\n",
       "    <tr>\n",
       "      <th>0</th>\n",
       "      <td>M02109295</td>\n",
       "      <td>Ranked</td>\n",
       "      <td>DA1X9864</td>\n",
       "      <td>IA8T7256</td>\n",
       "      <td>2019-05-20</td>\n",
       "      <td>00:10:00</td>\n",
       "      <td>5.0</td>\n",
       "      <td>0.0</td>\n",
       "      <td>DA1X9864</td>\n",
       "      <td>IA8T7256</td>\n",
       "      <td>True</td>\n",
       "    </tr>\n",
       "    <tr>\n",
       "      <th>1</th>\n",
       "      <td>M02109296</td>\n",
       "      <td>Casual</td>\n",
       "      <td>SZ0S2637</td>\n",
       "      <td>CK8P4729</td>\n",
       "      <td>2020-11-18</td>\n",
       "      <td>00:10:00</td>\n",
       "      <td>5.0</td>\n",
       "      <td>0.0</td>\n",
       "      <td>SZ0S2637</td>\n",
       "      <td>CK8P4729</td>\n",
       "      <td>True</td>\n",
       "    </tr>\n",
       "    <tr>\n",
       "      <th>2</th>\n",
       "      <td>M02109297</td>\n",
       "      <td>Ranked</td>\n",
       "      <td>QX0H6977</td>\n",
       "      <td>PK9E7375</td>\n",
       "      <td>2020-02-28</td>\n",
       "      <td>00:10:00</td>\n",
       "      <td>2.0</td>\n",
       "      <td>0.0</td>\n",
       "      <td>QX0H6977</td>\n",
       "      <td>PK9E7375</td>\n",
       "      <td>False</td>\n",
       "    </tr>\n",
       "    <tr>\n",
       "      <th>3</th>\n",
       "      <td>M02109298</td>\n",
       "      <td>Casual</td>\n",
       "      <td>BK3W3327</td>\n",
       "      <td>QZ7C5416</td>\n",
       "      <td>2019-07-01</td>\n",
       "      <td>00:10:00</td>\n",
       "      <td>3.0</td>\n",
       "      <td>0.0</td>\n",
       "      <td>BK3W3327</td>\n",
       "      <td>QZ7C5416</td>\n",
       "      <td>False</td>\n",
       "    </tr>\n",
       "    <tr>\n",
       "      <th>4</th>\n",
       "      <td>M02109299</td>\n",
       "      <td>Casual</td>\n",
       "      <td>EG5I9716</td>\n",
       "      <td>GN4N5747</td>\n",
       "      <td>2020-12-11</td>\n",
       "      <td>00:10:00</td>\n",
       "      <td>6.0</td>\n",
       "      <td>0.0</td>\n",
       "      <td>EG5I9716</td>\n",
       "      <td>GN4N5747</td>\n",
       "      <td>True</td>\n",
       "    </tr>\n",
       "  </tbody>\n",
       "</table>\n",
       "</div>"
      ],
      "text/plain": [
       "    match_id match_type  player_1  ...    winner  defeated easy_win\n",
       "0  M02109295     Ranked  DA1X9864  ...  DA1X9864  IA8T7256     True\n",
       "1  M02109296     Casual  SZ0S2637  ...  SZ0S2637  CK8P4729     True\n",
       "2  M02109297     Ranked  QX0H6977  ...  QX0H6977  PK9E7375    False\n",
       "3  M02109298     Casual  BK3W3327  ...  BK3W3327  QZ7C5416    False\n",
       "4  M02109299     Casual  EG5I9716  ...  EG5I9716  GN4N5747     True\n",
       "\n",
       "[5 rows x 11 columns]"
      ]
     },
     "execution_count": 254,
     "metadata": {
      "tags": []
     },
     "output_type": "execute_result"
    }
   ],
   "source": [
    "matches.head()"
   ]
  },
  {
   "cell_type": "markdown",
   "metadata": {
    "colab_type": "text",
    "id": "8nwhPVkfbDlY"
   },
   "source": [
    "## Identificando Todos os Usuários e criando novo DataFrame com as estatísticas de cada um"
   ]
  },
  {
   "cell_type": "code",
   "execution_count": 0,
   "metadata": {
    "colab": {},
    "colab_type": "code",
    "id": "k_iqoDApae0P"
   },
   "outputs": [],
   "source": [
    "players = pd.DataFrame(pd.unique(matches[['player_1', 'player_2']].values.ravel('K')))"
   ]
  },
  {
   "cell_type": "code",
   "execution_count": 0,
   "metadata": {
    "colab": {
     "base_uri": "https://localhost:8080/",
     "height": 204
    },
    "colab_type": "code",
    "id": "0ttGzaGNb0uL",
    "outputId": "fc8f6a5f-9ef5-4192-cb65-9af89ddfdd1e"
   },
   "outputs": [
    {
     "data": {
      "text/html": [
       "<div>\n",
       "<style scoped>\n",
       "    .dataframe tbody tr th:only-of-type {\n",
       "        vertical-align: middle;\n",
       "    }\n",
       "\n",
       "    .dataframe tbody tr th {\n",
       "        vertical-align: top;\n",
       "    }\n",
       "\n",
       "    .dataframe thead th {\n",
       "        text-align: right;\n",
       "    }\n",
       "</style>\n",
       "<table border=\"1\" class=\"dataframe\">\n",
       "  <thead>\n",
       "    <tr style=\"text-align: right;\">\n",
       "      <th></th>\n",
       "      <th>player_id</th>\n",
       "    </tr>\n",
       "  </thead>\n",
       "  <tbody>\n",
       "    <tr>\n",
       "      <th>0</th>\n",
       "      <td>DA1X9864</td>\n",
       "    </tr>\n",
       "    <tr>\n",
       "      <th>1</th>\n",
       "      <td>SZ0S2637</td>\n",
       "    </tr>\n",
       "    <tr>\n",
       "      <th>2</th>\n",
       "      <td>QX0H6977</td>\n",
       "    </tr>\n",
       "    <tr>\n",
       "      <th>3</th>\n",
       "      <td>BK3W3327</td>\n",
       "    </tr>\n",
       "    <tr>\n",
       "      <th>4</th>\n",
       "      <td>EG5I9716</td>\n",
       "    </tr>\n",
       "  </tbody>\n",
       "</table>\n",
       "</div>"
      ],
      "text/plain": [
       "  player_id\n",
       "0  DA1X9864\n",
       "1  SZ0S2637\n",
       "2  QX0H6977\n",
       "3  BK3W3327\n",
       "4  EG5I9716"
      ]
     },
     "execution_count": 256,
     "metadata": {
      "tags": []
     },
     "output_type": "execute_result"
    }
   ],
   "source": [
    "players.columns = ['player_id']\n",
    "players.head()"
   ]
  },
  {
   "cell_type": "markdown",
   "metadata": {
    "colab_type": "text",
    "id": "hn5XbWH5k0qQ"
   },
   "source": [
    "### Contando número de empates"
   ]
  },
  {
   "cell_type": "code",
   "execution_count": 0,
   "metadata": {
    "colab": {
     "base_uri": "https://localhost:8080/",
     "height": 34
    },
    "colab_type": "code",
    "id": "k-g9E6s7lL99",
    "outputId": "7da1dc8a-262f-48f4-eb1d-b665925f057d"
   },
   "outputs": [
    {
     "data": {
      "text/plain": [
       "0"
      ]
     },
     "execution_count": 257,
     "metadata": {
      "tags": []
     },
     "output_type": "execute_result"
    }
   ],
   "source": [
    "matches.winner.isnull().sum()"
   ]
  },
  {
   "cell_type": "markdown",
   "metadata": {
    "colab_type": "text",
    "id": "gExx3YsolYgH"
   },
   "source": [
    "### NENHUMA PARTIDA TERMINOU EMPATADA"
   ]
  },
  {
   "cell_type": "markdown",
   "metadata": {
    "colab_type": "text",
    "id": "ZIPF9ULkdl2r"
   },
   "source": [
    "\n",
    "Identificar em cada Jogador:\n",
    "* Número de jogos;\n",
    "* Número de vitórias;\n",
    "* Número de derrotas;\n",
    "* Percentual de aproveitamento;\n",
    "* Número de goleadas aplicadas;\n",
    "* Número de goleadas sofridas;\n"
   ]
  },
  {
   "cell_type": "code",
   "execution_count": 0,
   "metadata": {
    "colab": {},
    "colab_type": "code",
    "id": "I9qtX9ppcPK0"
   },
   "outputs": [],
   "source": [
    "for index, row in players.iterrows():\n",
    "  matches_count = matches.query(\"player_1 == @row.player_id or player_2 == @row.player_id\")['match_id'].count()\n",
    "  wins_count = matches.query(\"winner == @row.player_id\")['match_id'].count()\n",
    "  easy_wins_count = matches.query(\"winner == @row.player_id and easy_win == True\")['match_id'].count()\n",
    "  defeated_count = matches.query(\"defeated == @row.player_id\")['match_id'].count()\n",
    "  easy_defeated_count = matches.query(\"defeated == @row.player_id and easy_win == True\")['match_id'].count()\n",
    "  \n",
    "  players.at[index, 'matches_count'] = matches_count\n",
    "  players.at[index, 'wins_count'] = wins_count\n",
    "  players.at[index, 'easy_wins_count'] = easy_wins_count\n",
    "  players.at[index, 'defeated_count'] = defeated_count\n",
    "  players.at[index, 'easy_defeated_count'] = easy_defeated_count"
   ]
  },
  {
   "cell_type": "code",
   "execution_count": 0,
   "metadata": {
    "colab": {},
    "colab_type": "code",
    "id": "6e1G6Wd5of7z"
   },
   "outputs": [],
   "source": [
    "players['score'] = players['wins_count'] / players['matches_count']"
   ]
  },
  {
   "cell_type": "code",
   "execution_count": 0,
   "metadata": {
    "colab": {},
    "colab_type": "code",
    "id": "7FMPT6crrXEI"
   },
   "outputs": [],
   "source": [
    "players.head()"
   ]
  },
  {
   "cell_type": "code",
   "execution_count": 0,
   "metadata": {
    "colab": {},
    "colab_type": "code",
    "id": "ZkjnDhS7rjiS"
   },
   "outputs": [],
   "source": [
    "players.corr()"
   ]
  },
  {
   "cell_type": "code",
   "execution_count": 4,
   "metadata": {
    "colab": {
     "base_uri": "https://localhost:8080/",
     "height": 163
    },
    "colab_type": "code",
    "collapsed": true,
    "id": "_aDFs2y2skqk",
    "outputId": "a922f083-424c-48eb-a635-51f384e9cc83"
   },
   "outputs": [
    {
     "ename": "NameError",
     "evalue": "name 'players' is not defined",
     "output_type": "error",
     "traceback": [
      "\u001b[1;31m---------------------------------------------------------------------------\u001b[0m",
      "\u001b[1;31mNameError\u001b[0m                                 Traceback (most recent call last)",
      "\u001b[1;32m<ipython-input-4-daf9b131c7ab>\u001b[0m in \u001b[0;36m<module>\u001b[1;34m\u001b[0m\n\u001b[1;32m----> 1\u001b[1;33m \u001b[0mplayers\u001b[0m\u001b[1;33m.\u001b[0m\u001b[0mto_csv\u001b[0m\u001b[1;33m(\u001b[0m\u001b[1;34m'players.csv'\u001b[0m\u001b[1;33m,\u001b[0m \u001b[0mindex\u001b[0m\u001b[1;33m=\u001b[0m\u001b[1;32mFalse\u001b[0m\u001b[1;33m)\u001b[0m\u001b[1;33m\u001b[0m\u001b[1;33m\u001b[0m\u001b[0m\n\u001b[0m",
      "\u001b[1;31mNameError\u001b[0m: name 'players' is not defined"
     ]
    }
   ],
   "source": [
    "players.to_csv('players.csv', index=False)"
   ]
  },
  {
   "cell_type": "code",
   "execution_count": 0,
   "metadata": {
    "colab": {},
    "colab_type": "code",
    "id": "lO_V-Csdfgqa"
   },
   "outputs": [],
   "source": [
    "players = pd.read_csv('players.csv')"
   ]
  },
  {
   "cell_type": "code",
   "execution_count": 0,
   "metadata": {
    "colab": {
     "base_uri": "https://localhost:8080/",
     "height": 297
    },
    "colab_type": "code",
    "id": "0HCmSdHagdIv",
    "outputId": "524a7490-152f-4a63-a6b4-42c758fa2e70"
   },
   "outputs": [
    {
     "data": {
      "text/html": [
       "<div>\n",
       "<style scoped>\n",
       "    .dataframe tbody tr th:only-of-type {\n",
       "        vertical-align: middle;\n",
       "    }\n",
       "\n",
       "    .dataframe tbody tr th {\n",
       "        vertical-align: top;\n",
       "    }\n",
       "\n",
       "    .dataframe thead th {\n",
       "        text-align: right;\n",
       "    }\n",
       "</style>\n",
       "<table border=\"1\" class=\"dataframe\">\n",
       "  <thead>\n",
       "    <tr style=\"text-align: right;\">\n",
       "      <th></th>\n",
       "      <th>matches_count</th>\n",
       "      <th>wins_count</th>\n",
       "      <th>easy_wins_count</th>\n",
       "      <th>defeated_count</th>\n",
       "      <th>easy_defeated_count</th>\n",
       "      <th>score</th>\n",
       "    </tr>\n",
       "  </thead>\n",
       "  <tbody>\n",
       "    <tr>\n",
       "      <th>count</th>\n",
       "      <td>10000.000000</td>\n",
       "      <td>10000.000000</td>\n",
       "      <td>10000.000000</td>\n",
       "      <td>10000.000000</td>\n",
       "      <td>10000.000000</td>\n",
       "      <td>10000.000000</td>\n",
       "    </tr>\n",
       "    <tr>\n",
       "      <th>mean</th>\n",
       "      <td>19.998900</td>\n",
       "      <td>10.000000</td>\n",
       "      <td>6.040100</td>\n",
       "      <td>10.000000</td>\n",
       "      <td>6.040100</td>\n",
       "      <td>0.500399</td>\n",
       "    </tr>\n",
       "    <tr>\n",
       "      <th>std</th>\n",
       "      <td>4.459943</td>\n",
       "      <td>3.119771</td>\n",
       "      <td>2.432382</td>\n",
       "      <td>3.185093</td>\n",
       "      <td>2.450733</td>\n",
       "      <td>0.114493</td>\n",
       "    </tr>\n",
       "    <tr>\n",
       "      <th>min</th>\n",
       "      <td>5.000000</td>\n",
       "      <td>1.000000</td>\n",
       "      <td>0.000000</td>\n",
       "      <td>0.000000</td>\n",
       "      <td>0.000000</td>\n",
       "      <td>0.062500</td>\n",
       "    </tr>\n",
       "    <tr>\n",
       "      <th>25%</th>\n",
       "      <td>17.000000</td>\n",
       "      <td>8.000000</td>\n",
       "      <td>4.000000</td>\n",
       "      <td>8.000000</td>\n",
       "      <td>4.000000</td>\n",
       "      <td>0.424242</td>\n",
       "    </tr>\n",
       "    <tr>\n",
       "      <th>50%</th>\n",
       "      <td>20.000000</td>\n",
       "      <td>10.000000</td>\n",
       "      <td>6.000000</td>\n",
       "      <td>10.000000</td>\n",
       "      <td>6.000000</td>\n",
       "      <td>0.500000</td>\n",
       "    </tr>\n",
       "    <tr>\n",
       "      <th>75%</th>\n",
       "      <td>23.000000</td>\n",
       "      <td>12.000000</td>\n",
       "      <td>8.000000</td>\n",
       "      <td>12.000000</td>\n",
       "      <td>8.000000</td>\n",
       "      <td>0.576923</td>\n",
       "    </tr>\n",
       "    <tr>\n",
       "      <th>max</th>\n",
       "      <td>37.000000</td>\n",
       "      <td>24.000000</td>\n",
       "      <td>20.000000</td>\n",
       "      <td>25.000000</td>\n",
       "      <td>17.000000</td>\n",
       "      <td>1.000000</td>\n",
       "    </tr>\n",
       "  </tbody>\n",
       "</table>\n",
       "</div>"
      ],
      "text/plain": [
       "       matches_count    wins_count  ...  easy_defeated_count         score\n",
       "count   10000.000000  10000.000000  ...         10000.000000  10000.000000\n",
       "mean       19.998900     10.000000  ...             6.040100      0.500399\n",
       "std         4.459943      3.119771  ...             2.450733      0.114493\n",
       "min         5.000000      1.000000  ...             0.000000      0.062500\n",
       "25%        17.000000      8.000000  ...             4.000000      0.424242\n",
       "50%        20.000000     10.000000  ...             6.000000      0.500000\n",
       "75%        23.000000     12.000000  ...             8.000000      0.576923\n",
       "max        37.000000     24.000000  ...            17.000000      1.000000\n",
       "\n",
       "[8 rows x 6 columns]"
      ]
     },
     "execution_count": 14,
     "metadata": {
      "tags": []
     },
     "output_type": "execute_result"
    }
   ],
   "source": [
    "players.describe()"
   ]
  },
  {
   "cell_type": "code",
   "execution_count": 0,
   "metadata": {
    "colab": {
     "base_uri": "https://localhost:8080/",
     "height": 204
    },
    "colab_type": "code",
    "id": "sn6lYeJeiDp6",
    "outputId": "7f0eda10-4bcf-44e2-b06e-ccfb8309bcb1"
   },
   "outputs": [
    {
     "data": {
      "text/html": [
       "<div>\n",
       "<style scoped>\n",
       "    .dataframe tbody tr th:only-of-type {\n",
       "        vertical-align: middle;\n",
       "    }\n",
       "\n",
       "    .dataframe tbody tr th {\n",
       "        vertical-align: top;\n",
       "    }\n",
       "\n",
       "    .dataframe thead th {\n",
       "        text-align: right;\n",
       "    }\n",
       "</style>\n",
       "<table border=\"1\" class=\"dataframe\">\n",
       "  <thead>\n",
       "    <tr style=\"text-align: right;\">\n",
       "      <th></th>\n",
       "      <th>player_id</th>\n",
       "      <th>matches_count</th>\n",
       "      <th>wins_count</th>\n",
       "      <th>easy_wins_count</th>\n",
       "      <th>defeated_count</th>\n",
       "      <th>easy_defeated_count</th>\n",
       "      <th>score</th>\n",
       "    </tr>\n",
       "  </thead>\n",
       "  <tbody>\n",
       "    <tr>\n",
       "      <th>0</th>\n",
       "      <td>DA1X9864</td>\n",
       "      <td>24.0</td>\n",
       "      <td>9.0</td>\n",
       "      <td>4.0</td>\n",
       "      <td>15.0</td>\n",
       "      <td>9.0</td>\n",
       "      <td>0.375000</td>\n",
       "    </tr>\n",
       "    <tr>\n",
       "      <th>1</th>\n",
       "      <td>SZ0S2637</td>\n",
       "      <td>22.0</td>\n",
       "      <td>14.0</td>\n",
       "      <td>10.0</td>\n",
       "      <td>8.0</td>\n",
       "      <td>6.0</td>\n",
       "      <td>0.636364</td>\n",
       "    </tr>\n",
       "    <tr>\n",
       "      <th>2</th>\n",
       "      <td>QX0H6977</td>\n",
       "      <td>20.0</td>\n",
       "      <td>12.0</td>\n",
       "      <td>7.0</td>\n",
       "      <td>8.0</td>\n",
       "      <td>7.0</td>\n",
       "      <td>0.600000</td>\n",
       "    </tr>\n",
       "    <tr>\n",
       "      <th>3</th>\n",
       "      <td>BK3W3327</td>\n",
       "      <td>14.0</td>\n",
       "      <td>11.0</td>\n",
       "      <td>6.0</td>\n",
       "      <td>3.0</td>\n",
       "      <td>3.0</td>\n",
       "      <td>0.785714</td>\n",
       "    </tr>\n",
       "    <tr>\n",
       "      <th>4</th>\n",
       "      <td>EG5I9716</td>\n",
       "      <td>22.0</td>\n",
       "      <td>12.0</td>\n",
       "      <td>9.0</td>\n",
       "      <td>10.0</td>\n",
       "      <td>7.0</td>\n",
       "      <td>0.545455</td>\n",
       "    </tr>\n",
       "  </tbody>\n",
       "</table>\n",
       "</div>"
      ],
      "text/plain": [
       "  player_id  matches_count  ...  easy_defeated_count     score\n",
       "0  DA1X9864           24.0  ...                  9.0  0.375000\n",
       "1  SZ0S2637           22.0  ...                  6.0  0.636364\n",
       "2  QX0H6977           20.0  ...                  7.0  0.600000\n",
       "3  BK3W3327           14.0  ...                  3.0  0.785714\n",
       "4  EG5I9716           22.0  ...                  7.0  0.545455\n",
       "\n",
       "[5 rows x 7 columns]"
      ]
     },
     "execution_count": 15,
     "metadata": {
      "tags": []
     },
     "output_type": "execute_result"
    }
   ],
   "source": [
    "players.head()"
   ]
  },
  {
   "cell_type": "markdown",
   "metadata": {
    "colab_type": "text",
    "id": "S-6eTxiGtYQo"
   },
   "source": [
    "# Clustering"
   ]
  },
  {
   "cell_type": "code",
   "execution_count": 0,
   "metadata": {
    "colab": {},
    "colab_type": "code",
    "id": "NrZDW-54tZ6l"
   },
   "outputs": [],
   "source": [
    "import matplotlib.pyplot as plt\n",
    "import numpy as np\n",
    "from sklearn.preprocessing import StandardScaler"
   ]
  },
  {
   "cell_type": "markdown",
   "metadata": {
    "colab_type": "text",
    "id": "xLhGUM0oyC_F"
   },
   "source": [
    "## Definindo as variáveis mais importantes"
   ]
  },
  {
   "cell_type": "markdown",
   "metadata": {
    "colab_type": "text",
    "id": "HjQ6weS_yHRM"
   },
   "source": [
    "### Levando em conta que queremos agrupar os jogadores por níveis, as variáveis mais relevantes e que levaremos em consideração no agrupamento são:\n",
    "* Número de Partidas;\n",
    "* Número de goleadas aplicadas;\n",
    "* Número de goleadas sofridas;\n",
    "* Porcentagem de vitórias;"
   ]
  },
  {
   "cell_type": "markdown",
   "metadata": {
    "colab_type": "text",
    "id": "EyquHUH-t2_T"
   },
   "source": [
    "# 1.KMeans"
   ]
  },
  {
   "cell_type": "code",
   "execution_count": 0,
   "metadata": {
    "colab": {},
    "colab_type": "code",
    "id": "D8dZY7EGt-V6"
   },
   "outputs": [],
   "source": [
    "from sklearn.cluster import KMeans"
   ]
  },
  {
   "cell_type": "code",
   "execution_count": 0,
   "metadata": {
    "colab": {},
    "colab_type": "code",
    "id": "lTa1TJshzOws"
   },
   "outputs": [],
   "source": [
    "X = players.iloc[:,[1,3,5,6]].values\n",
    "scaler = StandardScaler()\n",
    "X = scaler.fit_transform(X)"
   ]
  },
  {
   "cell_type": "code",
   "execution_count": 0,
   "metadata": {
    "colab": {
     "base_uri": "https://localhost:8080/",
     "height": 419
    },
    "colab_type": "code",
    "id": "1bv8NugR1wxS",
    "outputId": "d0fdd10b-c8bc-48bd-ef9a-1cf6922c0c24"
   },
   "outputs": [
    {
     "data": {
      "text/html": [
       "<div>\n",
       "<style scoped>\n",
       "    .dataframe tbody tr th:only-of-type {\n",
       "        vertical-align: middle;\n",
       "    }\n",
       "\n",
       "    .dataframe tbody tr th {\n",
       "        vertical-align: top;\n",
       "    }\n",
       "\n",
       "    .dataframe thead th {\n",
       "        text-align: right;\n",
       "    }\n",
       "</style>\n",
       "<table border=\"1\" class=\"dataframe\">\n",
       "  <thead>\n",
       "    <tr style=\"text-align: right;\">\n",
       "      <th></th>\n",
       "      <th>0</th>\n",
       "      <th>1</th>\n",
       "      <th>2</th>\n",
       "      <th>3</th>\n",
       "    </tr>\n",
       "  </thead>\n",
       "  <tbody>\n",
       "    <tr>\n",
       "      <th>0</th>\n",
       "      <td>0.897164</td>\n",
       "      <td>-0.838767</td>\n",
       "      <td>1.207821</td>\n",
       "      <td>-1.095307</td>\n",
       "    </tr>\n",
       "    <tr>\n",
       "      <th>1</th>\n",
       "      <td>0.448705</td>\n",
       "      <td>1.628074</td>\n",
       "      <td>-0.016363</td>\n",
       "      <td>1.187596</td>\n",
       "    </tr>\n",
       "    <tr>\n",
       "      <th>2</th>\n",
       "      <td>0.000247</td>\n",
       "      <td>0.394653</td>\n",
       "      <td>0.391698</td>\n",
       "      <td>0.869975</td>\n",
       "    </tr>\n",
       "    <tr>\n",
       "      <th>3</th>\n",
       "      <td>-1.345129</td>\n",
       "      <td>-0.016487</td>\n",
       "      <td>-1.240548</td>\n",
       "      <td>2.492112</td>\n",
       "    </tr>\n",
       "    <tr>\n",
       "      <th>4</th>\n",
       "      <td>0.448705</td>\n",
       "      <td>1.216934</td>\n",
       "      <td>0.391698</td>\n",
       "      <td>0.393543</td>\n",
       "    </tr>\n",
       "    <tr>\n",
       "      <th>...</th>\n",
       "      <td>...</td>\n",
       "      <td>...</td>\n",
       "      <td>...</td>\n",
       "      <td>...</td>\n",
       "    </tr>\n",
       "    <tr>\n",
       "      <th>9995</th>\n",
       "      <td>-1.569359</td>\n",
       "      <td>-1.661047</td>\n",
       "      <td>-1.240548</td>\n",
       "      <td>-2.355103</td>\n",
       "    </tr>\n",
       "    <tr>\n",
       "      <th>9996</th>\n",
       "      <td>-1.793588</td>\n",
       "      <td>-1.661047</td>\n",
       "      <td>0.391698</td>\n",
       "      <td>-2.187130</td>\n",
       "    </tr>\n",
       "    <tr>\n",
       "      <th>9997</th>\n",
       "      <td>-1.120900</td>\n",
       "      <td>-1.249907</td>\n",
       "      <td>-0.832486</td>\n",
       "      <td>-1.459248</td>\n",
       "    </tr>\n",
       "    <tr>\n",
       "      <th>9998</th>\n",
       "      <td>-1.793588</td>\n",
       "      <td>-2.072187</td>\n",
       "      <td>-0.016363</td>\n",
       "      <td>-0.003484</td>\n",
       "    </tr>\n",
       "    <tr>\n",
       "      <th>9999</th>\n",
       "      <td>-1.345129</td>\n",
       "      <td>-2.483328</td>\n",
       "      <td>-0.016363</td>\n",
       "      <td>-2.499079</td>\n",
       "    </tr>\n",
       "  </tbody>\n",
       "</table>\n",
       "<p>10000 rows × 4 columns</p>\n",
       "</div>"
      ],
      "text/plain": [
       "             0         1         2         3\n",
       "0     0.897164 -0.838767  1.207821 -1.095307\n",
       "1     0.448705  1.628074 -0.016363  1.187596\n",
       "2     0.000247  0.394653  0.391698  0.869975\n",
       "3    -1.345129 -0.016487 -1.240548  2.492112\n",
       "4     0.448705  1.216934  0.391698  0.393543\n",
       "...        ...       ...       ...       ...\n",
       "9995 -1.569359 -1.661047 -1.240548 -2.355103\n",
       "9996 -1.793588 -1.661047  0.391698 -2.187130\n",
       "9997 -1.120900 -1.249907 -0.832486 -1.459248\n",
       "9998 -1.793588 -2.072187 -0.016363 -0.003484\n",
       "9999 -1.345129 -2.483328 -0.016363 -2.499079\n",
       "\n",
       "[10000 rows x 4 columns]"
      ]
     },
     "execution_count": 110,
     "metadata": {
      "tags": []
     },
     "output_type": "execute_result"
    }
   ],
   "source": [
    "pd.DataFrame(X)"
   ]
  },
  {
   "cell_type": "markdown",
   "metadata": {
    "colab_type": "text",
    "id": "y6_VUPYZy8sS"
   },
   "source": [
    "#### Definindo o número de clusters\n"
   ]
  },
  {
   "cell_type": "code",
   "execution_count": 0,
   "metadata": {
    "colab": {},
    "colab_type": "code",
    "id": "xfEs48Wx1LXm"
   },
   "outputs": [],
   "source": [
    "wcss = []\n",
    "for i in range(1, 11):\n",
    "  kmeans = KMeans(n_clusters=i, random_state=0)\n",
    "  kmeans.fit(X)\n",
    "  wcss.append(kmeans.inertia_)"
   ]
  },
  {
   "cell_type": "code",
   "execution_count": 0,
   "metadata": {
    "colab": {
     "base_uri": "https://localhost:8080/",
     "height": 296
    },
    "colab_type": "code",
    "id": "k0tKgM4auBbR",
    "outputId": "12f48c61-3247-4d62-cf59-7caa8e9c1709"
   },
   "outputs": [
    {
     "data": {
      "text/plain": [
       "Text(0, 0.5, 'WCSS')"
      ]
     },
     "execution_count": 112,
     "metadata": {
      "tags": []
     },
     "output_type": "execute_result"
    },
    {
     "data": {
      "image/png": "[encoded data removed]",
      "text/plain": [
       "<Figure size 432x288 with 1 Axes>"
      ]
     },
     "metadata": {
      "needs_background": "light",
      "tags": []
     },
     "output_type": "display_data"
    }
   ],
   "source": [
    "plt.plot(range(1,11), wcss)\n",
    "plt.xlabel('Número de Clusters')\n",
    "plt.ylabel('WCSS')"
   ]
  },
  {
   "cell_type": "markdown",
   "metadata": {
    "colab_type": "text",
    "id": "Wgama-VS_9x3"
   },
   "source": [
    "### Treinando o Modelo"
   ]
  },
  {
   "cell_type": "code",
   "execution_count": 0,
   "metadata": {
    "colab": {},
    "colab_type": "code",
    "id": "PL56zzl31d1N"
   },
   "outputs": [],
   "source": [
    "kmeans = KMeans(n_clusters=3, random_state=0)\n",
    "kmeans_predict = kmeans.fit_predict(X)"
   ]
  },
  {
   "cell_type": "code",
   "execution_count": 0,
   "metadata": {
    "colab": {},
    "colab_type": "code",
    "id": "NB9ZaaJb5Y2o"
   },
   "outputs": [],
   "source": [
    "players_predicted = np.column_stack((players, kmeans_predict))\n",
    "# players_predicted = players_predicted[players_predicted[:, 7].argsort()]\n",
    "predicted_df = pd.DataFrame(players_predicted)"
   ]
  },
  {
   "cell_type": "code",
   "execution_count": 0,
   "metadata": {
    "colab": {},
    "colab_type": "code",
    "id": "UBIVODO-7V6F"
   },
   "outputs": [],
   "source": [
    "# X_inverse = scaler.inverse_transform(X)\n",
    "# pd.DataFrame(X_inverse)"
   ]
  },
  {
   "cell_type": "code",
   "execution_count": 0,
   "metadata": {
    "colab": {
     "base_uri": "https://localhost:8080/",
     "height": 279
    },
    "colab_type": "code",
    "id": "Scuhoekf1gZu",
    "outputId": "c0840b05-83a6-4a3c-9dd9-af3b7b898cec"
   },
   "outputs": [
    {
     "data": {
      "image/png": "[encoded data removed]",
      "text/plain": [
       "<Figure size 432x288 with 1 Axes>"
      ]
     },
     "metadata": {
      "needs_background": "light",
      "tags": []
     },
     "output_type": "display_data"
    }
   ],
   "source": [
    "def kmeans_plot():\n",
    "  plt.scatter(X_inverse[kmeans_predict == 0, 0], X_inverse[kmeans_predict == 0, 3], s=100, c='orange', label='Iniciantes')\n",
    "  plt.scatter(X_inverse[kmeans_predict == 1, 0], X_inverse[kmeans_predict == 1, 3], s=100, c='red', label='Intermediários')\n",
    "  plt.scatter(X_inverse[kmeans_predict == 2, 0], X_inverse[kmeans_predict == 2, 3], s=100, c='green', label='Avançados')\n",
    "  plt.xlabel('Número de Partidas')\n",
    "  plt.ylabel('Porcentagem de Vitórias')\n",
    "  plt.legend()\n",
    "\n",
    "kmeans_plot()"
   ]
  },
  {
   "cell_type": "markdown",
   "metadata": {
    "colab_type": "text",
    "id": "_vQFn2Cb9Jgq"
   },
   "source": [
    "### De acordo com o gráfico de Número de partidas x Porcentagem de Vitórias, os grupos mostram: \n",
    "* Iniciantes: jogadores com poucas partidas e com um aproveitamento de vitórias baixo/médio;\n",
    "* Intermediários: jogadores com mais partidas e aproveitamento de vitórias baixo/médio;\n",
    "* Avançados: jogadores com maior porcentagem de vitórias e número de jogos baixos/médios.\n",
    "\n"
   ]
  },
  {
   "cell_type": "markdown",
   "metadata": {
    "colab_type": "text",
    "id": "7Sn82ZW__g95"
   },
   "source": [
    "# 2. Agrupamento Hierárquico"
   ]
  },
  {
   "cell_type": "code",
   "execution_count": 0,
   "metadata": {
    "colab": {},
    "colab_type": "code",
    "id": "ORd35C14_kSB"
   },
   "outputs": [],
   "source": [
    "from sklearn.cluster import AgglomerativeClustering\n",
    "from scipy.cluster.hierarchy import dendrogram, linkage"
   ]
  },
  {
   "cell_type": "code",
   "execution_count": 0,
   "metadata": {
    "colab": {
     "base_uri": "https://localhost:8080/",
     "height": 301
    },
    "colab_type": "code",
    "id": "gtRwkApM1gxH",
    "outputId": "eaefc8e4-65c2-45f7-95ae-25b2cbafa94a"
   },
   "outputs": [
    {
     "data": {
      "text/plain": [
       "Text(0.5, 1.0, 'Dendograma')"
      ]
     },
     "execution_count": 121,
     "metadata": {
      "tags": []
     },
     "output_type": "execute_result"
    },
    {
     "data": {
      "image/png": "[encoded data removed]",
      "text/plain": [
       "<Figure size 432x288 with 1 Axes>"
      ]
     },
     "metadata": {
      "needs_background": "light",
      "tags": []
     },
     "output_type": "display_data"
    }
   ],
   "source": [
    "dendograma = dendrogram(linkage(X, method='ward'))\n",
    "plt.title('Dendograma')"
   ]
  },
  {
   "cell_type": "code",
   "execution_count": 0,
   "metadata": {
    "colab": {},
    "colab_type": "code",
    "id": "89U5lXa6_qnt"
   },
   "outputs": [],
   "source": [
    "hc = AgglomerativeClustering(n_clusters=4)\n",
    "agg_predict = hc.fit_predict(X)"
   ]
  },
  {
   "cell_type": "code",
   "execution_count": 0,
   "metadata": {
    "colab": {},
    "colab_type": "code",
    "id": "upEp1-WGBOAS"
   },
   "outputs": [],
   "source": [
    "X_inverse = scaler.inverse_transform(X)"
   ]
  },
  {
   "cell_type": "code",
   "execution_count": 0,
   "metadata": {
    "colab": {
     "base_uri": "https://localhost:8080/",
     "height": 279
    },
    "colab_type": "code",
    "id": "E7ZNjbdkAn83",
    "outputId": "7619e9eb-3202-4750-aa8f-a0cbbd65bcf8",
    "scrolled": true
   },
   "outputs": [
    {
     "data": {
      "image/png": "[encoded data removed]",
      "text/plain": [
       "<Figure size 432x288 with 1 Axes>"
      ]
     },
     "metadata": {
      "needs_background": "light",
      "tags": []
     },
     "output_type": "display_data"
    }
   ],
   "source": [
    "def agg_plot():\n",
    "  plt.scatter(X_inverse[agg_predict == 1, 0], X_inverse[agg_predict == 1, 3], s=100, c='red', label='intermediários 2')\n",
    "  plt.scatter(X_inverse[agg_predict == 0, 0], X_inverse[agg_predict == 0, 3], s=100, c='orange', label='Iniciantes')\n",
    "  plt.scatter(X_inverse[agg_predict == 2, 0], X_inverse[agg_predict == 2, 3], s=100, c='green', label='Avançados')\n",
    "  plt.scatter(X_inverse[agg_predict == 3, 0], X_inverse[agg_predict == 3, 3], s=100, c='blue', label='Intermediários 1')\n",
    "  plt.xlabel('Número de Partidas')\n",
    "  plt.ylabel('Porcentagem de Vitórias')\n",
    "  plt.legend()\n",
    "\n",
    "agg_plot()"
   ]
  },
  {
   "cell_type": "markdown",
   "metadata": {
    "colab_type": "text",
    "id": "_O0pr6saCc0y"
   },
   "source": [
    "# 3. DBSCAN"
   ]
  },
  {
   "cell_type": "code",
   "execution_count": 0,
   "metadata": {
    "colab": {},
    "colab_type": "code",
    "id": "JI7m5WTRAxL_"
   },
   "outputs": [],
   "source": [
    "from sklearn.cluster import DBSCAN"
   ]
  },
  {
   "cell_type": "markdown",
   "metadata": {
    "colab_type": "text",
    "id": "01WUjURBDDt2"
   },
   "source": [
    "### Treinando o modelo"
   ]
  },
  {
   "cell_type": "code",
   "execution_count": 0,
   "metadata": {
    "colab": {},
    "colab_type": "code",
    "id": "u57x6W4zCfra"
   },
   "outputs": [],
   "source": [
    "dbscan = DBSCAN(eps=1, min_samples=2)\n",
    "dbscan_predict = dbscan.fit_predict(X)"
   ]
  },
  {
   "cell_type": "markdown",
   "metadata": {
    "colab_type": "text",
    "id": "5Wj8orhfDFZj"
   },
   "source": [
    "#### Verificando quantidade de clusters encontrado para ajustar o modelo"
   ]
  },
  {
   "cell_type": "code",
   "execution_count": 0,
   "metadata": {
    "colab": {
     "base_uri": "https://localhost:8080/",
     "height": 34
    },
    "colab_type": "code",
    "id": "C6U7JhA5C01P",
    "outputId": "21ffd5a6-80b2-4fe2-c238-6a30455f72d4"
   },
   "outputs": [
    {
     "name": "stdout",
     "output_type": "stream",
     "text": [
      "Unicos: [-1  0] - Quantidade: [   7 9993]\n"
     ]
    }
   ],
   "source": [
    "predict_unique, count = np.unique(dbscan_predict, return_counts=True)\n",
    "print('Unicos: {} - Quantidade: {}'.format(predict_unique, count))"
   ]
  },
  {
   "cell_type": "code",
   "execution_count": 0,
   "metadata": {
    "colab": {},
    "colab_type": "code",
    "id": "Ayzfe0-qC2s3"
   },
   "outputs": [],
   "source": [
    "X_inverse = scaler.inverse_transform(X)"
   ]
  },
  {
   "cell_type": "code",
   "execution_count": 0,
   "metadata": {
    "colab": {
     "base_uri": "https://localhost:8080/",
     "height": 279
    },
    "colab_type": "code",
    "id": "0Hm8_UmTDPHw",
    "outputId": "121469b0-47d9-4f2f-d993-ca8b6a1ba350"
   },
   "outputs": [
    {
     "data": {
      "image/png": "[encoded data removed]",
      "text/plain": [
       "<Figure size 432x288 with 1 Axes>"
      ]
     },
     "metadata": {
      "needs_background": "light",
      "tags": []
     },
     "output_type": "display_data"
    }
   ],
   "source": [
    "def dbscan_plot():\n",
    "  plt.scatter(X_inverse[dbscan_predict == 0, 0], X_inverse[dbscan_predict == 0, 1], s=100, c='red', label='Iniciantes')\n",
    "  plt.scatter(X_inverse[dbscan_predict == 1, 0], X_inverse[dbscan_predict == 1, 1], s=100, c='orange', label='Intermediários')\n",
    "  plt.xlabel('Número de Partidas')\n",
    "  plt.ylabel('Porcentagem de Vitórias')\n",
    "  plt.legend()\n",
    "\n",
    "dbscan_plot()"
   ]
  },
  {
   "cell_type": "markdown",
   "metadata": {
    "colab": {},
    "colab_type": "code",
    "id": "8ItKsXM_Ez0t"
   },
   "source": [
    "## Conclusão"
   ]
  },
  {
   "cell_type": "markdown",
   "metadata": {},
   "source": [
    "### O algoritmo K-means obteve o melhor conjunto de dados para esse data-set. Dividindo os jogadores em um grupo com maior percentual de vitórias e outros dois grupos com percentual de vitória parecidos, porem com menor número de jogos."
   ]
  }
 ],
 "metadata": {
  "colab": {
   "collapsed_sections": [
    "ivyqHZUvPtsH",
    "7a8zx8ytPzDk",
    "MYnYa_FlcNa2",
    "gExx3YsolYgH"
   ],
   "name": "iclinic_desafio.ipynb",
   "provenance": [],
   "toc_visible": true
  },
  "kernelspec": {
   "display_name": "Python 3",
   "language": "python",
   "name": "python3"
  },
  "language_info": {
   "codemirror_mode": {
    "name": "ipython",
    "version": 3
   },
   "file_extension": ".py",
   "mimetype": "text/x-python",
   "name": "python",
   "nbconvert_exporter": "python",
   "pygments_lexer": "ipython3",
   "version": "3.7.4"
  }
 },
 "nbformat": 4,
 "nbformat_minor": 1
}
