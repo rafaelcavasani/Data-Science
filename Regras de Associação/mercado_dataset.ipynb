{
 "cells": [
  {
   "cell_type": "code",
   "execution_count": 2,
   "metadata": {},
   "outputs": [],
   "source": [
    "import pandas as pd\n",
    "base = pd.read_csv('mercado2.csv', header=None)"
   ]
  },
  {
   "cell_type": "code",
   "execution_count": 3,
   "metadata": {},
   "outputs": [],
   "source": [
    "transacoes = []\n",
    "for i in range(0,7501):\n",
    "    transacoes.append([str(base.values[i,j]) for j in range(0, 20)])"
   ]
  },
  {
   "cell_type": "code",
   "execution_count": 4,
   "metadata": {},
   "outputs": [],
   "source": [
    "from apyori import apriori\n",
    "# Calculo do valor do suporte mínimo: n_dias_vendas_semana / total_registros\n",
    "# Dias da semana pois o data set está considerando vendas de 1 semana\n",
    "regras = apriori(transacoes, min_support=0.003, min_confidence=0.2, min_lift=3, min_length=2)\n",
    "resultados = list(regras)"
   ]
  },
  {
   "cell_type": "code",
   "execution_count": 5,
   "metadata": {},
   "outputs": [],
   "source": [
    "resultados2 = [list(x) for x in resultados]\n",
    "\n",
    "resultado_formatado = []\n",
    "for j in range(0, 5):\n",
    "    resultado_formatado.append([list(x) for x in resultados2[j][2]])"
   ]
  },
  {
   "cell_type": "code",
   "execution_count": 6,
   "metadata": {},
   "outputs": [
    {
     "data": {
      "text/plain": [
       "[[[frozenset({'light cream'}),\n",
       "   frozenset({'chicken'}),\n",
       "   0.29059829059829057,\n",
       "   4.84395061728395]],\n",
       " [[frozenset({'mushroom cream sauce'}),\n",
       "   frozenset({'escalope'}),\n",
       "   0.3006993006993007,\n",
       "   3.790832696715049]],\n",
       " [[frozenset({'pasta'}),\n",
       "   frozenset({'escalope'}),\n",
       "   0.3728813559322034,\n",
       "   4.700811850163794]],\n",
       " [[frozenset({'fromage blanc'}),\n",
       "   frozenset({'honey'}),\n",
       "   0.2450980392156863,\n",
       "   5.164270764485569]],\n",
       " [[frozenset({'herb & pepper'}),\n",
       "   frozenset({'ground beef'}),\n",
       "   0.3234501347708895,\n",
       "   3.2919938411349285]]]"
      ]
     },
     "execution_count": 6,
     "metadata": {},
     "output_type": "execute_result"
    }
   ],
   "source": [
    "resultado_formatado"
   ]
  },
  {
   "cell_type": "code",
   "execution_count": null,
   "metadata": {},
   "outputs": [],
   "source": []
  }
 ],
 "metadata": {
  "kernelspec": {
   "display_name": "Python 3",
   "language": "python",
   "name": "python3"
  },
  "language_info": {
   "codemirror_mode": {
    "name": "ipython",
    "version": 3
   },
   "file_extension": ".py",
   "mimetype": "text/x-python",
   "name": "python",
   "nbconvert_exporter": "python",
   "pygments_lexer": "ipython3",
   "version": "3.7.4"
  }
 },
 "nbformat": 4,
 "nbformat_minor": 2
}
